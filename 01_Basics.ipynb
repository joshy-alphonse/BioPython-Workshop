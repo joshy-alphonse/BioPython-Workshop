{
 "cells": [
  {
   "cell_type": "markdown",
   "metadata": {},
   "source": [
    "# **Programming for Biologists 1: Your First Steps with Python**\n",
    "\n",
    "\n",
    "Imagine you're in the lab, faced with stacks of data: hundreds of DNA sequences, thousands of gene expression values, or a massive list of protein IDs. Doing everything by hand would take forever, and mistakes are easy to make!\n",
    "\n",
    "That's where **programming** comes in. It's like teaching your computer to be your super-fast, super-accurate lab assistant. You give it instructions, and it follows them perfectly, tirelessly, and quickly.\n",
    "\n",
    "In this notebook, we'll start with **Python**, a very popular and easy-to-learn programming language. Biologists worldwide love Python because it's fantastic for handling biological data, crunching numbers, and automating tedious tasks.\n",
    "\n",
    "Think of this Jupyter Notebook as your interactive lab notebook, where you can write code (your instructions) and see the results immediately."
   ]
  },
  {
   "cell_type": "markdown",
   "metadata": {},
   "source": [
    "---"
   ]
  },
  {
   "cell_type": "markdown",
   "metadata": {},
   "source": [
    "## **1. Python's Basic Building Blocks: What are 'Words' and 'Numbers' to a Computer?**\n",
    "\n",
    "Just like learning a new language, you start with basic words and sentences. In Python, we call these **data types**."
   ]
  },
  {
   "cell_type": "markdown",
   "metadata": {},
   "source": [
    "### **1.1 Text Information (Strings)**\n",
    "\n",
    "In biology, we work with a lot of text: DNA sequences, protein names, gene descriptions. In Python, a sequence of characters (like \"ATGC\") is called a **string**.\n",
    "\n",
    "You tell Python it's a string by putting **quotes** around it (either single `''` or double `\"\"`)."
   ]
  },
  {
   "cell_type": "code",
   "execution_count": null,
   "metadata": {},
   "outputs": [],
   "source": [
    "# We can print (display) these strings\n",
    "print(\"ATGCGTACGTACGTACGTACG\")\n",
    "print('BRCA1')"
   ]
  },
  {
   "cell_type": "markdown",
   "metadata": {},
   "source": [
    "**Why this matters:** You'll use strings to store DNA, RNA, protein sequences, file names, sample IDs, and any descriptive text."
   ]
  },
  {
   "cell_type": "markdown",
   "metadata": {},
   "source": [
    "### **1.2 Number Information (Integers & Floats)**\n",
    "\n",
    "Numbers are straightforward. Python has two main types for numbers:\n",
    "\n",
    "* **Integers (`int`):** Whole numbers, like `10`, `100`, `-5`. (e.g., number of genes, count of mutations)\n",
    "* **Floats (`float`):** Numbers with decimal points, like `3.14`, `0.5`, `100.0`. (e.g., pH values, concentrations, p-values)"
   ]
  },
  {
   "cell_type": "code",
   "execution_count": null,
   "metadata": {},
   "outputs": [],
   "source": [
    "# An integer (whole number)\n",
    "number_of_genes = 20000\n",
    "\n",
    "# A float (decimal number)\n",
    "ph_value = 7.4\n",
    "\n",
    "# We can print numbers too\n",
    "print(number_of_genes)\n",
    "print(ph_value)"
   ]
  },
  {
   "cell_type": "markdown",
   "metadata": {},
   "source": [
    "**Why this matters:** You'll use numbers for counts, measurements, concentrations, statistical values, and much more."
   ]
  },
  {
   "cell_type": "markdown",
   "metadata": {},
   "source": [
    "### **1.3 Giving Names to Your Data (Variables)**\n",
    "\n",
    "Instead of just writing `20000` or `\"ATGC\"`, we can give these pieces of information a *name*. These names are called **variables**.\n",
    "\n",
    "Think of a variable as a labeled box where you can store a piece of information. You can change what's inside the box later."
   ]
  },
  {
   "cell_type": "code",
   "execution_count": null,
   "metadata": {},
   "outputs": [],
   "source": [
    "# Store a DNA sequence in a variable called 'my_dna'\n",
    "my_dna = \"ATGCGTACGTACGTACGTACG\"\n",
    "print(\"My DNA sequence is:\", my_dna)\n",
    "\n",
    "# Store a count in a variable called 'gene_count'\n",
    "gene_count = 500\n",
    "print(\"The gene count is:\", gene_count)\n",
    "\n",
    "# You can even change what's in the box!\n",
    "gene_count = gene_count + 100 # Add 100 to the existing count\n",
    "print(\"New gene count:\", gene_count)"
   ]
  },
  {
   "cell_type": "markdown",
   "metadata": {},
   "source": [
    "**Why this matters :** Variables make your code readable and flexible. You can refer to `patient_id` instead of \"patient's unique identifier,\" and reuse the same data multiple times without retyping it."
   ]
  },
  {
   "cell_type": "markdown",
   "metadata": {},
   "source": [
    "### **1.4 Basic Math and Text Tricks**\n",
    "\n",
    "Python can do simple math and even some tricks with text!\n",
    "\n",
    "* **Math operations:** `+` (add), `-` (subtract), `*` (multiply), `/` (divide)\n",
    "* **Text operations:** `+` (joins text), `*` (repeats text)"
   ]
  },
  {
   "cell_type": "code",
   "execution_count": null,
   "metadata": {},
   "outputs": [],
   "source": [
    "# Math with numbers\n",
    "total_cells = 100 + 50\n",
    "print(\"Total cells:\", total_cells)\n",
    "\n",
    "percentage = (15 / 60) * 100\n",
    "print(\"Percentage:\", percentage)\n",
    "\n",
    "# Combining (concatenating) text\n",
    "first_part = \"ATG\"\n",
    "second_part = \"CGC\"\n",
    "full_sequence = first_part + second_part\n",
    "print(\"Combined sequence:\", full_sequence)\n",
    "\n",
    "# Repeating text (e.g., for simple repeats in DNA)\n",
    "repeat_unit = \"GA\"\n",
    "long_repeat = repeat_unit * 5\n",
    "print(\"Long repeat:\", long_repeat)"
   ]
  },
  {
   "cell_type": "markdown",
   "metadata": {},
   "source": [
    "**Your Turn! (Exercise 1)**\n",
    "\n",
    "1.  Create a variable called `protein_sequence` and store a short protein sequence (e.g., `\"ARNDCE\"`) in it.\n",
    "2.  Create a variable called `molecular_weight` and store a decimal number (e.g., `12345.67`) in it.\n",
    "3.  Print both variables.\n",
    "4.  Combine two short DNA fragments (e.g., `\"GATT\"` and `\"ACCA\"`) into a new variable called `exon_fragment` and print it."
   ]
  },
  {
   "cell_type": "code",
   "execution_count": null,
   "metadata": {},
   "outputs": [],
   "source": [
    "# Write your code for Exercise 1 here!\n"
   ]
  },
  {
   "cell_type": "markdown",
   "metadata": {},
   "source": [
    "### Basic Arithmetic Operations\n",
    "\n",
    "| Operator | Description           | Example           |\n",
    "|----------|-----------------------|-------------------|\n",
    "| `+`      | Addition              | `3 + 2 → 5`       |\n",
    "| `-`      | Subtraction           | `5 - 3 → 2`       |\n",
    "| `*`      | Multiplication        | `4 * 2 → 8`       |\n",
    "| `/`      | Division              | `8 / 2 → 4.0`     |\n",
    "| `//`     | Floor Division        | `7 // 2 → 3`      |\n",
    "| `%`      | Modulus (Remainder)   | `7 % 2 → 1`       |\n",
    "| `**`     | Exponentiation (Power)| `3 ** 2 → 9`      |\n"
   ]
  },
  {
   "cell_type": "markdown",
   "metadata": {},
   "source": [
    "---"
   ]
  },
  {
   "cell_type": "code",
   "execution_count": null,
   "metadata": {},
   "outputs": [],
   "source": []
  },
  {
   "cell_type": "markdown",
   "metadata": {},
   "source": [
    "## **2. Organizing Your Lab Samples: Lists and Dictionaries**\n",
    "\n",
    "In the lab, you don't just have one sample; you have *many* samples, *many* genes, *many* experiments. Python has special ways to store collections of data."
   ]
  },
  {
   "cell_type": "markdown",
   "metadata": {},
   "source": [
    "### **2.1 Lists: Your Ordered Shopping List of Data**\n",
    "\n",
    "A **list** is like an ordered shopping list. You can put many items into it, and they stay in the order you put them. You can also add or remove items from your list later.\n",
    "\n",
    "Lists are defined using **square brackets `[]`** and items are separated by **commas `,`**."
   ]
  },
  {
   "cell_type": "code",
   "execution_count": null,
   "metadata": {},
   "outputs": [],
   "source": [
    "# A list of gene names\n",
    "gene_names = [\"BRCA1\", \"TP53\", \"EGFR\", \"MYC\"]\n",
    "print(\"My gene list:\", gene_names)\n",
    "\n",
    "# A list of expression levels\n",
    "expression_values = [12.5, 30.1, 5.8, 22.0]\n",
    "print(\"Expression values:\", expression_values)"
   ]
  },
  {
   "cell_type": "code",
   "execution_count": null,
   "metadata": {},
   "outputs": [],
   "source": [
    "# Accessing items in a list (remember, Python starts counting from 0!)\n",
    "# The first item is at index 0, second at 1, and so on.\n",
    "first_gene = gene_names[0] # This gets \"BRCA1\"\n",
    "print(\"First gene:\", first_gene)\n",
    "\n",
    "third_expression = expression_values[2] # This gets 5.8\n",
    "print(\"Third expression value:\", third_expression)\n",
    "\n",
    "# Adding items to your list\n",
    "gene_names.append(\"VEGFA\") # Adds \"VEGFA\" to the end of the list\n",
    "print(\"Updated gene list:\", gene_names)\n",
    "\n",
    "# How many items are in my list?\n",
    "num_genes = len(gene_names)\n",
    "print(\"Number of genes in list:\", num_genes)"
   ]
  },
  {
   "cell_type": "code",
   "execution_count": null,
   "metadata": {},
   "outputs": [],
   "source": []
  },
  {
   "cell_type": "markdown",
   "metadata": {},
   "source": [
    "**Why this matters:** Lists are perfect for storing lists of sequences, file paths, sample IDs, experiment conditions, or any series of data."
   ]
  },
  {
   "cell_type": "markdown",
   "metadata": {},
   "source": [
    "### **2.2 Dictionaries: Your Lab Notebook Index**\n",
    "\n",
    "Imagine your lab notebook has an index. You look up a \"gene name\" (the key) and it tells you the \"sequence\" (the value).\n",
    "\n",
    "A **dictionary** in Python works just like this. It stores information as **key-value pairs**. Each `key` is unique (like a gene name), and it points to a `value` (like its sequence).\n",
    "\n",
    "Dictionaries are defined using **curly braces `{}`** with `key: value` pairs separated by commas."
   ]
  },
  {
   "cell_type": "code",
   "execution_count": null,
   "metadata": {},
   "outputs": [],
   "source": [
    "# A dictionary mapping gene names (keys) to their sequences (values)\n",
    "gene_sequences = {\n",
    "    \"BRCA1\": \"ATGCCGTA...\",\n",
    "    \"TP53\": \"GGCATTCG...\",\n",
    "    \"EGFR\": \"AAAGGGTT...\"\n",
    "}\n",
    "print(\"My gene sequences dictionary:\", gene_sequences)"
   ]
  },
  {
   "cell_type": "code",
   "execution_count": null,
   "metadata": {},
   "outputs": [],
   "source": [
    "# Getting the sequence for a specific gene\n",
    "brca1_seq = gene_sequences[\"BRCA1\"]\n",
    "print(\"BRCA1 sequence:\", brca1_seq)\n",
    "\n",
    "# Adding a new gene to the dictionary\n",
    "gene_sequences[\"MYC\"] = \"TTTCCCAT...\"\n",
    "print(\"Updated dictionary with MYC:\", gene_sequences)\n",
    "\n",
    "# Getting all the gene names (keys)\n",
    "all_gene_names = gene_sequences.keys()\n",
    "print(\"All gene names:\", list(all_gene_names)) # Convert to list to see them clearly"
   ]
  },
  {
   "cell_type": "markdown",
   "metadata": {},
   "source": [
    "**Why this matters:** Dictionaries are super useful for mapping IDs to data (e.g., patient ID to phenotype, gene name to expression level, protein PDB ID to structure file)."
   ]
  },
  {
   "cell_type": "markdown",
   "metadata": {},
   "source": [
    "**Your Turn! (Exercise 2)**\n",
    "\n",
    "1.  Create a list called `cell_types` with at least three different cell types (e.g., \"Neuron\", \"Macrophage\", \"Epithelial\").\n",
    "2.  Add a new cell type to your `cell_types` list.\n",
    "3.  Print the second cell type in your list.\n",
    "4.  Create a dictionary called `patient_ages` where keys are patient IDs (e.g., \"P001\", \"P002\") and values are their ages.\n",
    "5.  Print the age of patient \"P001\" from your dictionary."
   ]
  },
  {
   "cell_type": "code",
   "execution_count": null,
   "metadata": {},
   "outputs": [],
   "source": [
    "# Write your code for Exercise 2 here!\n",
    "\n"
   ]
  },
  {
   "cell_type": "markdown",
   "metadata": {},
   "source": [
    "---"
   ]
  },
  {
   "cell_type": "markdown",
   "metadata": {},
   "source": [
    "## **3. Smart Programs: Making Decisions and Doing Repetitive Tasks**\n",
    "\n",
    "This is where programming becomes truly powerful. You can teach your computer to make decisions and to do things over and over again without getting bored!"
   ]
  },
  {
   "cell_type": "markdown",
   "metadata": {},
   "source": [
    "### **3.1 The 'If This, Then That' Rule (Conditional Statements)**\n",
    "\n",
    "Sometimes, your program needs to do different things based on different conditions. This is handled by `if`, `elif` (else if), and `else` statements."
   ]
  },
  {
   "cell_type": "code",
   "execution_count": null,
   "metadata": {},
   "outputs": [],
   "source": [
    "dna_length = 250\n",
    "\n",
    "if dna_length > 1000:\n",
    "    print(\"This is a very long DNA sequence.\")\n",
    "elif dna_length > 200: # This runs only if the first 'if' was False\n",
    "    print(\"This is a medium-sized DNA sequence.\")\n",
    "else: # This runs if none of the above 'if' or 'elif' conditions were True\n",
    "    print(\"This is a short DNA sequence.\")\n",
    "\n",
    "# You can also check for exact matches, or if something is NOT true\n",
    "gene_status = \"active\"\n",
    "if gene_status == \"active\": # == checks if two things are exactly equal\n",
    "    print(\"Gene is switched on.\")\n",
    "else:\n",
    "    print(\"Gene is switched off or unknown.\")"
   ]
  },
  {
   "cell_type": "markdown",
   "metadata": {},
   "source": [
    "**Why this matters:** You'll use `if/else` to filter data (e.g., \"if gene expression is high, then...\", \"if mutation is present, then...\"), validate inputs, and control program flow based on experimental conditions."
   ]
  },
  {
   "cell_type": "markdown",
   "metadata": {},
   "source": [
    "### **3.2 Doing Things for Every Single Sample (Loops)**\n",
    "\n",
    "Imagine you have a list of 100 gene sequences, and you want to calculate the GC content for each one. Doing it individually would be tedious. That's where **loops** come in.\n",
    "\n",
    "A `for` loop lets you go through each item in a list (or string, or other collection) and do something with it."
   ]
  },
  {
   "cell_type": "code",
   "execution_count": null,
   "metadata": {},
   "outputs": [],
   "source": [
    "gene_list = [\"BRCA1\", \"TP53\", \"EGFR\", \"MYC\"]\n",
    "\n",
    "print(\"--- Processing each gene ---\")\n",
    "for gene in gene_list: # 'gene' will be \"BRCA1\", then \"TP53\", etc., in each round\n",
    "    print(\"Currently processing:\", gene)\n",
    "    # Here you would put code to do something with 'gene', like fetching its sequence\n",
    "\n",
    "print(\"--- Done processing all genes ---\")\n",
    "\n",
    "# You can also loop through characters in a sequence\n",
    "my_dna = \"ATGCGT\"\n",
    "print(\"\\n--- Counting bases in DNA ---\")\n",
    "a_count = 0\n",
    "for base in my_dna:\n",
    "    if base == 'A':\n",
    "        a_count = a_count + 1 # Add 1 to a_count if the base is 'A'\n",
    "    print(base) # Print each base as we go through it\n",
    "print(\"Total 'A's:\", a_count)"
   ]
  },
  {
   "cell_type": "markdown",
   "metadata": {},
   "source": [
    "**Why this matters:** Loops are fundamental for processing large datasets. You'll loop through rows in a data file, sequences in a FASTA file, samples in an experiment, etc."
   ]
  },
  {
   "cell_type": "markdown",
   "metadata": {},
   "source": [
    "**Your Turn! (Exercise 3)**\n",
    "\n",
    "1.  You have a list of patient temperatures: `patient_temps = [37.2, 39.5, 36.8, 38.1]`.\n",
    "2.  Use a `for` loop to go through each temperature.\n",
    "3.  Inside the loop, use an `if` statement to check:\n",
    "    * If the temperature is greater than `38.0`, print: \"Patient has a fever: \\[temperature]\"\n",
    "    * Otherwise, print: \"Patient temperature is normal: \\[temperature]\""
   ]
  },
  {
   "cell_type": "code",
   "execution_count": null,
   "metadata": {},
   "outputs": [],
   "source": [
    "# Write your code for Exercise 3 here!\n"
   ]
  },
  {
   "cell_type": "markdown",
   "metadata": {},
   "source": [
    "---"
   ]
  },
  {
   "cell_type": "markdown",
   "metadata": {},
   "source": [
    "## **4. Building Your Own Lab Tools (Functions)**\n",
    "\n",
    "As you write more code, you'll find yourself doing the same set of steps over and over again. Instead of writing them out every time, you can package them into a reusable \"tool\" called a **function**.\n",
    "\n",
    "Think of a function like a pre-made lab protocol (e.g., a PCR protocol). You give it some ingredients (inputs), it follows the steps, and it gives you a final product (output).\n",
    "\n",
    "You define a function using the `def` keyword, give it a name, and list its `inputs` in parentheses."
   ]
  },
  {
   "cell_type": "code",
   "execution_count": null,
   "metadata": {},
   "outputs": [],
   "source": [
    "# A simple function to say hello\n",
    "def greet_person(name):\n",
    "    \"\"\"This function greets a person by name.\"\"\" # This is a \"docstring\" - explains what the function does\n",
    "    print(\"Hello,\", name + \"!\")\n",
    "\n",
    "# Now, use our new tool!\n",
    "greet_person(\"Dr. Smith\")\n",
    "greet_person(\"Lab Assistant Bot\")"
   ]
  },
  {
   "cell_type": "code",
   "execution_count": null,
   "metadata": {},
   "outputs": [],
   "source": [
    "# A function to calculate GC content\n",
    "def calculate_gc_content(dna_sequence):\n",
    "    \"\"\"Calculates the percentage of G and C bases in a DNA sequence.\"\"\"\n",
    "    g_count = dna_sequence.count('G') # Python has built-in ways to count characters!\n",
    "    c_count = dna_sequence.count('C')\n",
    "    total_bases = len(dna_sequence) # len() tells us the length of a string/list\n",
    "\n",
    "    if total_bases == 0: # Avoid dividing by zero!\n",
    "        return 0.0 # Return 0% if the sequence is empty\n",
    "\n",
    "    gc_percent = ((g_count + c_count) / total_bases) * 100\n",
    "    return gc_percent # This is what the function \"gives back\" as its result\n",
    "\n",
    "# Let's test our GC content tool\n",
    "seq1 = \"ATGCGCGCAT\"\n",
    "gc1 = calculate_gc_content(seq1)\n",
    "print(f\"GC content of '{seq1}' is: {gc1:.2f}%\") # The .2f means format to 2 decimal places\n",
    "\n",
    "seq2 = \"AAAAAA\"\n",
    "gc2 = calculate_gc_content(seq2)\n",
    "print(f\"GC content of '{seq2}' is: {gc2:.2f}%\")"
   ]
  },
  {
   "cell_type": "markdown",
   "metadata": {},
   "source": [
    "**Why this matters :** Functions are crucial for organizing your code, making it reusable, and avoiding repetitive work. You'll write functions for things like parsing sequence headers, calculating reverse complements, or analyzing specific regions of a genome."
   ]
  },
  {
   "cell_type": "markdown",
   "metadata": {},
   "source": [
    "**Your Turn! (Exercise 4)**\n",
    "\n",
    "1.  Write a function called `celsius_to_fahrenheit` that takes one input: `celsius_temp`.\n",
    "2.  Inside the function, calculate Fahrenheit using the formula: `F = (C * 9/5) + 32`.\n",
    "3.  The function should `return` the calculated Fahrenheit temperature.\n",
    "4.  Call your function with a Celsius temperature (e.g., `25`) and print the result."
   ]
  },
  {
   "cell_type": "code",
   "execution_count": null,
   "metadata": {},
   "outputs": [],
   "source": [
    "# Write your code for Exercise 4 here!\n"
   ]
  },
  {
   "cell_type": "markdown",
   "metadata": {},
   "source": [
    "---"
   ]
  },
  {
   "cell_type": "markdown",
   "metadata": {},
   "source": [
    "## **5. Working with Your Lab Data Files (File Input/Output)**\n",
    "\n",
    "Your data isn't usually typed directly into Python; it comes from files. Python is excellent at reading from and writing to files."
   ]
  },
  {
   "cell_type": "markdown",
   "metadata": {},
   "source": [
    "### **5.1 Opening Your Lab Records (Reading Files)**\n",
    "\n",
    "To read a file, you \"open\" it. The `with open(...)` structure is the safest way to do this, as it automatically closes the file when you're done, even if errors happen."
   ]
  },
  {
   "cell_type": "code",
   "execution_count": null,
   "metadata": {},
   "outputs": [],
   "source": [
    "# --- Create a dummy file ---\n",
    "# In a real scenario, you'd already have a 'dna_data.txt' file\n",
    "with open(\"dna_data.txt\", \"w\") as f:\n",
    "    f.write(\">gene_A\\nATGCATGCATGC\\n\")\n",
    "    f.write(\">gene_B\\nGGCCGGCCGGCC\\n\")\n",
    "# ------------------------------------------------------------------------------------------\n",
    "\n",
    "print(\"--- Reading DNA data from file ---\")\n",
    "# Open the file for reading ('r' means read mode)\n",
    "with open(\"dna_data.txt\", \"r\") as dna_file:\n",
    "    # Read each line from the file\n",
    "    for line in dna_file:\n",
    "        # Each 'line' will still have the newline character at the end ('\\n')\n",
    "        # We often strip it off for cleaner data\n",
    "        cleaned_line = line.strip()\n",
    "        print(\"Read line:\", cleaned_line)\n",
    "\n",
    "# Let's say you have a FASTA file (common biological sequence format)\n",
    "# It has lines starting with '>' (header) and then the sequence\n",
    "# We can combine reading with our previous knowledge:\n"
   ]
  },
  {
   "cell_type": "code",
   "execution_count": null,
   "metadata": {},
   "outputs": [],
   "source": [
    "# --- Create a dummy FASTA file ---\n",
    "with open(\"genes.fasta\", \"w\") as f:\n",
    "    f.write(\">gene1_description\\nATGCATGC\\n\")\n",
    "    f.write(\">gene2_description\\nGGCCGGCC\\n\")\n",
    "    f.write(\">gene3_description\\nTTTAAA\\n\")\n",
    "# ----------------------------------\n",
    "\n",
    "print(\"\\n--- Processing a simple FASTA file ---\")\n",
    "gene_sequences_dict = {} # We'll store our sequences in a dictionary\n",
    "current_gene_id = \"\"\n",
    "\n",
    "with open(\"genes.fasta\", \"r\") as fasta_file:\n",
    "    for line in fasta_file:\n",
    "        cleaned_line = line.strip()\n",
    "        if cleaned_line.startswith('>'): # If it's a header line\n",
    "            current_gene_id = cleaned_line[1:] # Remove the '>'\n",
    "            gene_sequences_dict[current_gene_id] = \"\" # Initialize empty string for this gene\n",
    "        else: # If it's a sequence line\n",
    "            gene_sequences_dict[current_gene_id] += cleaned_line # Add sequence to current gene\n",
    "\n",
    "print(\"Loaded sequences:\")\n",
    "for gene_id, sequence in gene_sequences_dict.items():\n",
    "    print(f\"Gene ID: {gene_id}, Sequence: {sequence}\")"
   ]
  },
  {
   "cell_type": "markdown",
   "metadata": {},
   "source": [
    "**Why this matters :** This is how you'll get data from public databases, sequencing results, or any other external files into your Python program for analysis."
   ]
  },
  {
   "cell_type": "markdown",
   "metadata": {},
   "source": [
    "### **5.2 Writing Files**\n",
    "\n",
    "After you process data, you'll often want to save your results to a new file.\n",
    "\n",
    "To write a file, you open it in write mode (`'w'`) or append mode (`'a'` to add to an existing file without deleting its content)."
   ]
  },
  {
   "cell_type": "code",
   "execution_count": null,
   "metadata": {},
   "outputs": [],
   "source": [
    "results_to_save = [\n",
    "    \"GeneX,GC_content=65%\",\n",
    "    \"GeneY,GC_content=40%\",\n",
    "    \"GeneZ,GC_content=52%\"\n",
    "]\n",
    "\n",
    "print(\"--- Writing analysis results to a file ---\")\n",
    "with open(\"analysis_results.txt\", \"w\") as outfile: # 'w' will create/overwrite the file\n",
    "    outfile.write(\"Gene ID,GC Content\\n\") # Write a header line\n",
    "    for result_line in results_to_save:\n",
    "        outfile.write(result_line + \"\\n\") # Write each result, add a newline character\n",
    "\n",
    "print(\"Results saved to analysis_results.txt\")\n",
    "\n",
    "# You can check the file's content after running this cell by going to your Jupyter/Colab file browser,\n",
    "# or by reading it back into the notebook:\n",
    "print(\"\\n--- Checking the written file content ---\")\n",
    "with open(\"analysis_results.txt\", \"r\") as check_file:\n",
    "    for line in check_file:\n",
    "        print(line.strip())"
   ]
  },
  {
   "cell_type": "markdown",
   "metadata": {},
   "source": [
    "You'll use this to save filtered gene lists, computed statistics, formatted output for other software, or custom reports."
   ]
  },
  {
   "cell_type": "markdown",
   "metadata": {},
   "source": [
    "**Your Turn! (Exercise 5)**\n",
    "\n",
    "1.  Imagine you have a list of gene names that passed a filter: `filtered_genes = [\"ABC1\", \"XYZ2\", \"DEF3\"]`.\n",
    "2.  Write these gene names, one per line, into a new file called `high_confidence_genes.txt`."
   ]
  },
  {
   "cell_type": "code",
   "execution_count": null,
   "metadata": {},
   "outputs": [],
   "source": [
    "# Write your code for Exercise 5 here!\n",
    "\n"
   ]
  },
  {
   "cell_type": "markdown",
   "metadata": {},
   "source": [
    "---"
   ]
  },
  {
   "cell_type": "markdown",
   "metadata": {},
   "source": [
    "## **6. When Things Go Wrong: Basic Error Handling**\n",
    "\n",
    "Even the best experiments (and programs!) can have unexpected issues. Python tries to tell you when something is wrong with an \"error message.\" You can make your programs more robust by anticipating common problems."
   ]
  },
  {
   "cell_type": "markdown",
   "metadata": {},
   "source": [
    "A common way to handle errors is using `try` and `except`.\n",
    "\n",
    "* **`try`:** \"Try to run this code.\"\n",
    "* **`except`:** \"IF an error happens during the `try` block, THEN do this instead of crashing.\""
   ]
  },
  {
   "cell_type": "code",
   "execution_count": null,
   "metadata": {},
   "outputs": [],
   "source": [
    "# Example: Trying to divide by zero (a common error)\n",
    "numerator = 10\n",
    "denominator = 0 # Uh oh!\n",
    "\n",
    "try:\n",
    "    result = numerator / denominator\n",
    "    print(\"Result:\", result)\n",
    "except ZeroDivisionError: # Catch a specific type of error\n",
    "    print(\"Oops! You tried to divide by zero. That's not allowed in math.\")\n",
    "except Exception as e: # Catch any other error that might occur\n",
    "    print(f\"An unexpected error occurred: {e}\")\n",
    "\n",
    "print(\"Program continued gracefully!\")\n",
    "\n",
    "# Example: Trying to open a file that doesn't exist\n",
    "file_name = \"non_existent_file.txt\"\n",
    "try:\n",
    "    with open(file_name, \"r\") as f:\n",
    "        content = f.read()\n",
    "        print(\"File content:\", content)\n",
    "except FileNotFoundError:\n",
    "    print(f\"Error: The file '{file_name}' was not found. Please check the name and path.\")\n",
    "except Exception as e:\n",
    "    print(f\"An unexpected error occurred while opening the file: {e}\")"
   ]
  },
  {
   "cell_type": "markdown",
   "metadata": {},
   "source": [
    "**Why this matters:** Robust scripts can handle missing files, malformed data, or unexpected values without crashing, making them more reliable for real-world lab data."
   ]
  },
  {
   "cell_type": "markdown",
   "metadata": {},
   "source": [
    "---"
   ]
  }
 ],
 "metadata": {
  "kernelspec": {
   "display_name": "nlp",
   "language": "python",
   "name": "python3"
  },
  "language_info": {
   "codemirror_mode": {
    "name": "ipython",
    "version": 3
   },
   "file_extension": ".py",
   "mimetype": "text/x-python",
   "name": "python",
   "nbconvert_exporter": "python",
   "pygments_lexer": "ipython3",
   "version": "3.11.11"
  }
 },
 "nbformat": 4,
 "nbformat_minor": 4
}
