{
 "cells": [
  {
   "cell_type": "markdown",
   "metadata": {},
   "source": [
    "# **Programming for Biologists: Interfacing with Entrez Databases using Biopython**\n",
    "\n",
    "**Welcome, data miners!**\n",
    "\n",
    "In the previous notebook, you learned how to manipulate biological sequences and parse local files using Biopython's `Seq`, `SeqRecord`, and `SeqIO` modules. Now, let's take your data acquisition skills to the next level: **accessing the vast biological databases directly from your Python code!**\n",
    "\n",
    "The **National Center for Biotechnology Information (NCBI)** hosts an incredible array of publicly available biological and biomedical databases. These databases are integrated through the **Entrez** system.\n",
    "\n",
    "Manually Browse the NCBI website for data is fine for a few queries, but what if you need to download thousands of gene sequences, retrieve abstract information for hundreds of papers, or check for related entries across different databases?\n",
    "\n",
    "This is where `Bio.Entrez` comes in. It's Biopython's module for programmatically querying and downloading data from Entrez. It allows you to:\n",
    "\n",
    "* **Discover databases:** Find out what databases are available and what fields they contain (`EInfo`).\n",
    "* **Search:** Perform sophisticated searches using keywords, accession numbers, or other criteria to retrieve lists of unique identifiers (IDs) (`ESearch`).\n",
    "* **Fetch:** Download the full data records corresponding to those IDs in various formats (`EFetch`).\n",
    "* **Link:** Find related entries across different databases (`ELink`).\n",
    "\n",
    "Let's get started!"
   ]
  },
  {
   "cell_type": "code",
   "execution_count": 2,
   "metadata": {},
   "outputs": [
    {
     "name": "stdout",
     "output_type": "stream",
     "text": [
      "Collecting biopython\n",
      "  Downloading biopython-1.85-cp311-cp311-win_amd64.whl.metadata (13 kB)\n",
      "Requirement already satisfied: numpy in c:\\users\\joshy\\miniconda3\\envs\\nlp\\lib\\site-packages (from biopython) (1.26.4)\n",
      "Downloading biopython-1.85-cp311-cp311-win_amd64.whl (2.8 MB)\n",
      "   ---------------------------------------- 0.0/2.8 MB ? eta -:--:--\n",
      "   ------- -------------------------------- 0.5/2.8 MB 4.2 MB/s eta 0:00:01\n",
      "   ------------------------------------- -- 2.6/2.8 MB 8.9 MB/s eta 0:00:01\n",
      "   ------------------------------------- -- 2.6/2.8 MB 8.9 MB/s eta 0:00:01\n",
      "   ---------------------------------------- 2.8/2.8 MB 4.8 MB/s eta 0:00:00\n",
      "Installing collected packages: biopython\n",
      "Successfully installed biopython-1.85\n"
     ]
    }
   ],
   "source": [
    "!pip install biopython"
   ]
  },
  {
   "cell_type": "markdown",
   "metadata": {},
   "source": [
    "---"
   ]
  },
  {
   "cell_type": "markdown",
   "metadata": {},
   "source": [
    "## **1. Setup: Importing Entrez and Setting Your Email**\n",
    "\n",
    "First, we import the `Entrez` module. **Crucially, you must set `Entrez.email` to a valid email address.** NCBI requires this for tracking usage and to contact you if there are any issues or if your script is making an excessive number of requests.\n",
    "\n",
    "It's good practice to provide your actual email address, but for a workshop, you can use a placeholder like `\"your.name@example.com\"`.\n",
    "\n",
    "We'll also import `SeqIO` again, as it's often used to parse the results from `Entrez.efetch`."
   ]
  },
  {
   "cell_type": "code",
   "execution_count": 3,
   "metadata": {},
   "outputs": [
    {
     "name": "stdout",
     "output_type": "stream",
     "text": [
      "Bio.Entrez and Bio.SeqIO imported. Entrez email set.\n"
     ]
    }
   ],
   "source": [
    "from Bio import Entrez\n",
    "from Bio import SeqIO\n",
    "\n",
    "# IMPORTANT: Set your email address! NCBI requires this.\n",
    "Entrez.email = \"your.name@example.com\"  # Replace with your actual email if you plan extensive use\n",
    "\n",
    "print(\"Bio.Entrez and Bio.SeqIO imported. Entrez email set.\")"
   ]
  },
  {
   "cell_type": "markdown",
   "metadata": {},
   "source": [
    "---"
   ]
  },
  {
   "cell_type": "markdown",
   "metadata": {},
   "source": [
    "## **2. `Entrez.einfo()`: Discovering Databases and Fields**\n",
    "\n",
    "The `einfo()` function is used to obtain information about the Entrez databases and their available search fields. This is incredibly useful when you're not sure how to structure your search queries or what data types are available."
   ]
  },
  {
   "cell_type": "markdown",
   "metadata": {},
   "source": [
    "### **2.1 Listing All Available Databases**\n",
    "\n",
    "You can get a list of all databases managed by Entrez by calling `einfo()` without any specific database parameter."
   ]
  },
  {
   "cell_type": "code",
   "execution_count": 4,
   "metadata": {},
   "outputs": [
    {
     "name": "stdout",
     "output_type": "stream",
     "text": [
      "--- Listing All Entrez Databases ---\n",
      "Available Databases:\n",
      "- pubmed\n",
      "- protein\n",
      "- nuccore\n",
      "- ipg\n",
      "- nucleotide\n",
      "- structure\n",
      "- genome\n",
      "- annotinfo\n",
      "- assembly\n",
      "- bioproject\n",
      "- biosample\n",
      "- blastdbinfo\n",
      "- books\n",
      "- cdd\n",
      "- clinvar\n",
      "- gap\n",
      "- gapplus\n",
      "- grasp\n",
      "- dbvar\n",
      "- gene\n",
      "- gds\n",
      "- geoprofiles\n",
      "- medgen\n",
      "- mesh\n",
      "- nlmcatalog\n",
      "- omim\n",
      "- orgtrack\n",
      "- pmc\n",
      "- proteinclusters\n",
      "- pcassay\n",
      "- protfam\n",
      "- pccompound\n",
      "- pcsubstance\n",
      "- seqannot\n",
      "- snp\n",
      "- sra\n",
      "- taxonomy\n",
      "- biocollections\n",
      "- gtr\n",
      "\n",
      "Commonly used databases for biologists include: pubmed, nuccore (nucleotide), protein, gene, taxonomy, cdd, snp, sra, pmb\n"
     ]
    }
   ],
   "source": [
    "print(\"--- Listing All Entrez Databases ---\")\n",
    "try:\n",
    "    handle = Entrez.einfo()\n",
    "    record = Entrez.read(handle)\n",
    "    handle.close()\n",
    "\n",
    "    print(\"Available Databases:\")\n",
    "    for db_name in record['DbList']:\n",
    "        print(f\"- {db_name}\")\n",
    "except Exception as e:\n",
    "    print(f\"An error occurred: {e}\")\n",
    "\n",
    "\n",
    "print(\"\\nCommonly used databases for biologists include: pubmed, nuccore (nucleotide), protein, gene, taxonomy, cdd, snp, sra, pmb\")"
   ]
  },
  {
   "cell_type": "markdown",
   "metadata": {},
   "source": [
    "### **2.2 Getting Information About a Specific Database**\n",
    "\n",
    "To understand a database's structure and search capabilities, pass the `db` parameter to `einfo()`."
   ]
  },
  {
   "cell_type": "code",
   "execution_count": 6,
   "metadata": {},
   "outputs": [
    {
     "name": "stdout",
     "output_type": "stream",
     "text": [
      "--- Information about 'nuccore' (Nucleotide) Database ---\n",
      "DB Name: nuccore\n",
      "Description: Core Nucleotide db\n",
      "Total Records: 660845242\n",
      "\n",
      "Searchable Fields (partial list):\n",
      "An error occurred: 'IsIndexed'\n"
     ]
    }
   ],
   "source": [
    "print(\"--- Information about 'nuccore' (Nucleotide) Database ---\")\n",
    "try:\n",
    "    handle = Entrez.einfo(db=\"nuccore\")\n",
    "    record = Entrez.read(handle)\n",
    "    handle.close()\n",
    "\n",
    "    # print(record) # Uncomment to see the full raw output\n",
    "\n",
    "    db_info = record['DbInfo']\n",
    "    print(f\"DB Name: {db_info['DbName']}\")\n",
    "    print(f\"Description: {db_info['Description']}\")\n",
    "    print(f\"Total Records: {db_info['Count']}\")\n",
    "\n",
    "    print(\"\\nSearchable Fields (partial list):\")\n",
    "    # Iterate through fields and print common ones\n",
    "    for field in db_info['FieldList']:\n",
    "        # Check if the field is relevant for searching and not too obscure\n",
    "        if field['Name'] in ['ALL', 'ACCN', 'GENE', 'TITL', 'ORGN', 'AUTH', 'FKEY', 'PDAT']:\n",
    "             print(f\"- {field['Name']}: {field['Description']} ({field['IsIndexed']})\")\n",
    "\n",
    "except Exception as e:\n",
    "    print(f\"An error occurred: {e}\")"
   ]
  },
  {
   "cell_type": "markdown",
   "metadata": {},
   "source": [
    "**Your Turn! (EInfo Exercise)**\n",
    "\n",
    "1.  Use `Entrez.einfo()` to get information about the `pubmed` database.\n",
    "2.  Print the total number of records in `pubmed`.\n",
    "3.  List at least 5 different searchable fields from the `pubmed` database and their descriptions."
   ]
  },
  {
   "cell_type": "code",
   "execution_count": 7,
   "metadata": {},
   "outputs": [],
   "source": [
    "# Write your code for EInfo Exercise here!\n"
   ]
  },
  {
   "cell_type": "markdown",
   "metadata": {},
   "source": [
    "---"
   ]
  },
  {
   "cell_type": "markdown",
   "metadata": {},
   "source": [
    "## **3. `Entrez.esearch()`: Searching for Data (Getting IDs)**\n",
    "\n",
    "The `esearch()` function is your primary tool for querying Entrez databases. It takes a database name (`db`) and a search term (`term`) and returns a list of unique identifiers (UIDs) that match your query.\n",
    "\n",
    "Key parameters:\n",
    "* `db`: The database to search (e.g., `'nuccore'`, `'pubmed'`, `'protein'`).\n",
    "* `term`: Your search query (e.g., `'human[ORGN] AND hemoglobin[GENE]'`). You can use Entrez query syntax.\n",
    "* `retmax`: The maximum number of UIDs to return. Default is often 20. Essential for getting more results.\n",
    "* `retstart`: The index of the first UID to retrieve (for pagination).\n",
    "* `usehistory`: If `True`, enables Web Environment for very large queries, allowing you to fetch results in batches. (More advanced, but good to know)."
   ]
  },
  {
   "cell_type": "markdown",
   "metadata": {},
   "source": [
    "### **3.1 Searching for Nucleotide Sequences**\n",
    "\n",
    "Let's search the `nuccore` database for a specific gene from a particular organism."
   ]
  },
  {
   "cell_type": "code",
   "execution_count": 8,
   "metadata": {},
   "outputs": [
    {
     "name": "stdout",
     "output_type": "stream",
     "text": [
      "--- Searching 'nuccore' for 'human hemoglobin alpha' ---\n",
      "Found 0 records matching 'human[ORGN] AND hemoglobin alpha[GENE]'.\n",
      "Retrieved 0 IDs: []\n"
     ]
    }
   ],
   "source": [
    "print(\"--- Searching 'nuccore' for 'human hemoglobin alpha' ---\")\n",
    "\n",
    "search_term = \"human AND hemoglobin alpha\"\n",
    "try:\n",
    "    handle = Entrez.esearch(db=\"nuccore\", term=search_term, retmax=\"5\") # Get up to 5 results\n",
    "    record = Entrez.read(handle)\n",
    "    handle.close()\n",
    "\n",
    "    # print(record) # Uncomment to see the full raw output\n",
    "\n",
    "    count = int(record['Count'])\n",
    "    id_list = record['IdList']\n",
    "\n",
    "    print(f\"Found {count} records matching '{search_term}'.\")\n",
    "    print(f\"Retrieved {len(id_list)} IDs: {id_list}\")\n",
    "except Exception as e:\n",
    "    print(f\"An error occurred during nuccore search: {e}\")"
   ]
  },
  {
   "cell_type": "markdown",
   "metadata": {},
   "source": [
    "### **3.2 Searching PubMed for Articles**\n",
    "\n",
    "You can search the `pubmed` database for scientific literature."
   ]
  },
  {
   "cell_type": "code",
   "execution_count": 9,
   "metadata": {},
   "outputs": [
    {
     "name": "stdout",
     "output_type": "stream",
     "text": [
      "--- Searching 'pubmed' for 'CRISPR cancer therapy review' ---\n",
      "Found 1174 PubMed articles matching 'CRISPR cancer therapy review'.\n",
      "Retrieved 10 IDs: ['40394347', '40389954', '40358685', '40356298', '40356202', '40351170', '40350539', '40346049', '40342841', '40342053']\n"
     ]
    }
   ],
   "source": [
    "print(\"--- Searching 'pubmed' for 'CRISPR cancer therapy review' ---\")\n",
    "\n",
    "search_term_pubmed = \"CRISPR cancer therapy review\"\n",
    "try:\n",
    "    handle = Entrez.esearch(db=\"pubmed\", term=search_term_pubmed, retmax=\"10\") # Get up to 10 results\n",
    "    record = Entrez.read(handle)\n",
    "    handle.close()\n",
    "\n",
    "    count = int(record['Count'])\n",
    "    id_list_pubmed = record['IdList']\n",
    "\n",
    "    print(f\"Found {count} PubMed articles matching '{search_term_pubmed}'.\")\n",
    "    print(f\"Retrieved {len(id_list_pubmed)} IDs: {id_list_pubmed}\")\n",
    "except Exception as e:\n",
    "    print(f\"An error occurred during PubMed search: {e}\")"
   ]
  },
  {
   "cell_type": "markdown",
   "metadata": {},
   "source": [
    "**Your Turn! (ESearch Exercise)**\n",
    "\n",
    "1.  Search the `protein` database for `\"SARS-CoV-2 spike protein\"`.\n",
    "2.  Retrieve and print the first 3 IDs found.\n",
    "3.  Print the total count of matching protein records."
   ]
  },
  {
   "cell_type": "code",
   "execution_count": 13,
   "metadata": {},
   "outputs": [
    {
     "name": "stdout",
     "output_type": "stream",
     "text": [
      "--- ESearch Exercise: SARS-CoV-2 spike protein ---\n",
      "Total protein records found for 'SARS-CoV-2 spike protein': 48040\n",
      "First 3 retrieved IDs: ['984655739', '118150418', '2976446949']\n"
     ]
    }
   ],
   "source": [
    "# Write your code for ESearch Exercise here!\n",
    "print(\"--- ESearch Exercise: SARS-CoV-2 spike protein ---\")\n",
    "search_term_spike = \"SARS-CoV-2 spike protein\"\n",
    "try:\n",
    "    handle = Entrez.esearch(db=\"protein\", term=search_term_spike, retmax=\"3\")\n",
    "    record = Entrez.read(handle)\n",
    "    handle.close()\n",
    "\n",
    "    count_spike = int(record['Count'])\n",
    "    id_list_spike = record['IdList']\n",
    "\n",
    "    print(f\"Total protein records found for '{search_term_spike}': {count_spike}\")\n",
    "    print(f\"First 3 retrieved IDs: {id_list_spike}\")\n",
    "\n",
    "except Exception as e:\n",
    "    print(f\"An error occurred during protein search: {e}\")"
   ]
  },
  {
   "cell_type": "markdown",
   "metadata": {},
   "source": [
    "---"
   ]
  },
  {
   "cell_type": "markdown",
   "metadata": {},
   "source": [
    "## **4. `Entrez.efetch()`: Retrieving Full Records**\n",
    "\n",
    "Once you have a list of IDs from `esearch()`, you use `efetch()` to download the actual data records. This is where you get the sequences, annotations, abstracts, etc.\n",
    "\n",
    "Key parameters:\n",
    "* `db`: The database the IDs belong to.\n",
    "* `id`: A single ID or a comma-separated string of IDs.\n",
    "    * *Tip:* If you have a list of IDs from `esearch()`, you can join them: `','.join(id_list)`.\n",
    "    \n",
    "    \n",
    "    \n",
    "* `rettype`: The return type, specifying the format of the data. Common types include:\n",
    "    * `'fasta'` (for nucleotide or protein sequences)\n",
    "    * `'gb'` or `'genbank'` (for GenBank records)\n",
    "    * `'medline'` (for PubMed abstracts)\n",
    "    * `'xml'` (raw XML, flexible but needs parsing)\n",
    "* `retmode`: The return mode, typically `'text'` for human-readable formats or `'xml'` for structured data."
   ]
  },
  {
   "cell_type": "markdown",
   "metadata": {},
   "source": [
    "### **4.1 Fetching a Single GenBank Record**\n",
    "\n",
    "Let's fetch a known GenBank accession number (e.g., from a previous search or directly provided)."
   ]
  },
  {
   "cell_type": "code",
   "execution_count": 14,
   "metadata": {},
   "outputs": [
    {
     "name": "stdout",
     "output_type": "stream",
     "text": [
      "--- Fetching a single GenBank record (Accession: 'NC_001416') ---\n",
      "ID: NC_001416.1\n",
      "Name: NC_001416\n",
      "Description: Enterobacteria phage lambda, complete genome\n",
      "Sequence Length: 48502\n",
      "First 50 bases of sequence: GGGCGGCGACCTCGCGGGTTTTCGCTATTTATGAAAATTTTCCGGTTTAA...\n",
      "Features (partial list):\n",
      "  - Type: source, Location: [0:48502](+)\n",
      "  - Type: gene, Location: [190:736](+)\n",
      "  - Type: CDS, Location: [190:736](+)\n"
     ]
    }
   ],
   "source": [
    "print(\"--- Fetching a single GenBank record (Accession: 'NC_001416') ---\")\n",
    "accession_id = \"NC_001416\" # Phage lambda genome\n",
    "\n",
    "try:\n",
    "    handle = Entrez.efetch(db=\"nuccore\", id=accession_id, rettype=\"gb\", retmode=\"text\")\n",
    "    # Read the GenBank record using SeqIO.read() because we expect one record\n",
    "    record = SeqIO.read(handle, \"genbank\")\n",
    "    handle.close()\n",
    "\n",
    "    print(f\"ID: {record.id}\")\n",
    "    print(f\"Name: {record.name}\")\n",
    "    print(f\"Description: {record.description}\")\n",
    "    print(f\"Sequence Length: {len(record.seq)}\")\n",
    "    print(f\"First 50 bases of sequence: {record.seq[:50]}...\")\n",
    "    print(\"Features (partial list):\")\n",
    "    for feature in record.features[:3]: # Print first 3 features\n",
    "        print(f\"  - Type: {feature.type}, Location: {feature.location}\")\n",
    "\n",
    "except Exception as e:\n",
    "    print(f\"An error occurred during GenBank fetch: {e}\")"
   ]
  },
  {
   "cell_type": "markdown",
   "metadata": {},
   "source": [
    "### **4.2 Fetching Multiple FASTA Sequences**\n",
    "\n",
    "You can pass a list of IDs to `efetch()` and get multiple records back. `SeqIO.parse()` is ideal for iterating through these multiple records."
   ]
  },
  {
   "cell_type": "code",
   "execution_count": 21,
   "metadata": {},
   "outputs": [
    {
     "name": "stdout",
     "output_type": "stream",
     "text": [
      "--- Fetching multiple FASTA sequences (from previous human hemoglobin search) ---\n",
      "Fetching IDs: 46309492,1478050928,2978489883,2724200156,2724200150\n",
      "\n",
      "Fetched 5 FASTA records.\n",
      "Record 1: ID=NM_207062.1, Length=2338, First 30 bases=GGGAGACAGAGGAACGCTGTAAGGATAGTA...\n",
      "Record 2: ID=NM_001366015.1, Length=2428, First 30 bases=GAAAAATAAAAACTTTCATCATGAGGTGGC...\n",
      "Record 3: ID=CP040665.2, Length=2820179, First 30 bases=CGATGCGAGCAATCAAATTTCATAACATCA...\n",
      "Record 4: ID=NC_088388.1, Length=133402803, First 30 bases=CCCTAACCCTAACCCTAACCCTAACCCTAA...\n",
      "Record 5: ID=NC_088394.1, Length=86056530, First 30 bases=CCCTAACCCTAACCCTAACCCTAACCCTAA...\n"
     ]
    }
   ],
   "source": [
    "print(\"--- Fetching multiple FASTA sequences (from previous human hemoglobin search) ---\")\n",
    "\n",
    "# Reuse the IDs from the previous ESearch (assuming it ran successfully)\n",
    "if 'id_list' in locals() and id_list:\n",
    "    fetch_ids = ','.join(id_list)\n",
    "    print(f\"Fetching IDs: {fetch_ids}\")\n",
    "\n",
    "    try:\n",
    "        handle = Entrez.efetch(db=\"nuccore\", id=fetch_ids, rettype=\"fasta\", retmode=\"text\")\n",
    "        # Use SeqIO.parse for multiple records from the handle\n",
    "        fasta_records = list(SeqIO.parse(handle, \"fasta\"))\n",
    "        handle.close()\n",
    "\n",
    "        print(f\"\\nFetched {len(fasta_records)} FASTA records.\")\n",
    "        for i, record in enumerate(fasta_records):\n",
    "            print(f\"Record {i+1}: ID={record.id}, Length={len(record.seq)}, First 30 bases={record.seq[:30]}...\")\n",
    "\n",
    "    except Exception as e:\n",
    "        print(f\"An error occurred during multi-FASTA fetch: {e}\")\n",
    "else:\n",
    "    print(\"No IDs available from previous ESearch for 'human hemoglobin alpha'. Please run that cell first.\")"
   ]
  },
  {
   "cell_type": "markdown",
   "metadata": {},
   "source": [
    "**Your Turn! (EFetch Exercise)**\n",
    "\n",
    "1.  Choose one of the protein IDs you found in the `ESearch` exercise (`SARS-CoV-2 spike protein`). If you didn't run it, use `YP_009724390.1` as an example.\n",
    "2.  Use `Entrez.efetch()` to retrieve the protein sequence in **FASTA** format from the `protein` database.\n",
    "3.  Parse the fetched data using `SeqIO.read()` (since it's a single sequence).\n",
    "4.  Print the protein's ID, description, and its full sequence."
   ]
  },
  {
   "cell_type": "code",
   "execution_count": null,
   "metadata": {},
   "outputs": [],
   "source": [
    "# Write your code for EFetch Exercise here!\n"
   ]
  },
  {
   "cell_type": "markdown",
   "metadata": {},
   "source": [
    "---"
   ]
  },
  {
   "cell_type": "markdown",
   "metadata": {},
   "source": [
    "## **5. `Entrez.elink()`: Finding Related Records (Cross-Database Linking)**\n",
    "\n",
    "The `elink()` function allows you to find related records. Given an ID in one database, you can find linked IDs in the same or different databases. This is useful for exploring biological connections.\n",
    "\n",
    "Key parameters:\n",
    "* `dbfrom`: The database from which the input IDs come.\n",
    "    \n",
    "* `db`: The target database to link to.\n",
    "* `id`: The ID(s) to link from.\n",
    "\n",
    "    "
   ]
  },
  {
   "cell_type": "code",
   "execution_count": 40,
   "metadata": {},
   "outputs": [
    {
     "name": "stdout",
     "output_type": "stream",
     "text": [
      "--- ELink: Finding PubMed articles related to a Gene ID ---\n",
      "[{'LinkSetDb': [{'Link': [{'Id': '22301074'}, {'Id': '30032202'}], 'DbTo': 'pubmed', 'LinkName': 'gene_pubmed'}], 'LinkSetDbHistory': [], 'ERROR': [], 'DbFrom': 'gene', 'IdList': ['41985191']}]\n",
      "Found 2 PubMed articles linked to Gene ID 41985191.\n",
      "First 5 PubMed IDs: ['22301074', '30032202']\n",
      "\n",
      "First 3 linked PubMed article titles:\n",
      "- Manual GO annotation of predictive protein signatures: the InterPro approach to\n",
      "- TreeGrafter: phylogenetic tree-based annotation of proteins with Gene Ontology\n"
     ]
    }
   ],
   "source": [
    "print(\"--- ELink: Finding PubMed articles related to a Gene ID ---\")\n",
    "\n",
    "gene_id = \"41985191\" # Example: human gene for 'TP53' (tumor protein p53)\n",
    "\n",
    "try:\n",
    "    handle = Entrez.elink(dbfrom=\"gene\", db=\"pubmed\", LinkName=\"gene_pubmed\", id=gene_id)\n",
    "    record = Entrez.read(handle)\n",
    "    handle.close()\n",
    "\n",
    "    print(record) # Uncomment to see the full raw output of elink\n",
    "\n",
    "    pubmed_ids = []\n",
    "    if record[0]['LinkSetDb']:\n",
    "        for link_set_db in record[0]['LinkSetDb']:\n",
    "            pubmed_ids.extend([link['Id'] for link in link_set_db['Link'] ])\n",
    "\n",
    "    print(f\"Found {len(pubmed_ids)} PubMed articles linked to Gene ID {gene_id}.\")\n",
    "    print(f\"First 5 PubMed IDs: {pubmed_ids[:5]}\")\n",
    "\n",
    "    # Optionally, fetch titles for these PubMed IDs\n",
    "    if pubmed_ids:\n",
    "        handle_pubmed = Entrez.efetch(db=\"pubmed\", id=','.join(pubmed_ids[:3]), rettype=\"medline\", retmode=\"text\")\n",
    "        medline_records = handle_pubmed.read().split('\\n\\n') # Medline records are separated by double newlines\n",
    "        handle_pubmed.close()\n",
    "        print(\"\\nFirst 3 linked PubMed article titles:\")\n",
    "        for rec_text in medline_records:\n",
    "            if 'TI  -' in rec_text: # Title field in Medline format\n",
    "                title_line = [line for line in rec_text.split('\\n') if line.startswith('TI  -')]\n",
    "                if title_line:\n",
    "                    print(f\"- {title_line[0].replace('TI  - ', '').strip()}\")\n",
    "\n",
    "except Exception as e:\n",
    "    print(f\"An error occurred during ELink: {e}\")"
   ]
  },
  {
   "cell_type": "markdown",
   "metadata": {},
   "source": [
    "---"
   ]
  },
  {
   "cell_type": "markdown",
   "metadata": {},
   "source": [
    "## **6. Putting It All Together: A Complete Workflow**\n",
    "\n",
    "Let's combine `esearch` and `efetch` to simulate a common task: searching for a protein of interest, and then downloading its sequence and related abstract information."
   ]
  },
  {
   "cell_type": "code",
   "execution_count": 45,
   "metadata": {},
   "outputs": [
    {
     "name": "stdout",
     "output_type": "stream",
     "text": [
      "--- Complete Workflow: Search for a virus genome, get its ID, then fetch its sequence ---\n",
      "\n",
      "1. Searching 'nuccore' for: 'MAPK AND genome'\n",
      "  Found 44280 records. Top ID: 2889144701\n",
      "\n",
      "2. Fetching full GenBank record for ID: 2889144701\n",
      "  Record ID: NM_001435891.1\n",
      "  Description: Danio rerio TEA domain family member 3 a (tead3a), mRNA\n",
      "  Sequence Length: 1944 bases\n",
      "  First 100 bases: ATACTTCACATTCCAGCTTTACTGTCAAATCAGGAGAAATATTTCTTCAAAAACATCAGCGCGGTTTGCTTTTGTAAATGAGCTCCTGCGATAAAGCCTG...\n",
      "\n",
      "3. Finding related PubMed articles using ELink...\n",
      "  Found 2 related PubMed articles. First 3 IDs: ['22301074', '30032202']\n"
     ]
    }
   ],
   "source": [
    "print(\"--- Complete Workflow: Search , get its ID, then fetch its sequence ---\")\n",
    "\n",
    "Search TERM = \"MAPK\"\n",
    "search_term = f\"{organism_name}\n",
    "database = \"nuccore\"\n",
    "\n",
    "print(f\"\\n1. Searching '{database}' for: '{search_term}'\")\n",
    "try:\n",
    "    # Step 1: Search for IDs\n",
    "    handle_search = Entrez.esearch(db=database, term=search_term, retmax=\"1\") # Get just the top result\n",
    "    search_record = Entrez.read(handle_search)\n",
    "    handle_search.close()\n",
    "\n",
    "    found_count = int(search_record['Count'])\n",
    "    if found_count == 0:\n",
    "        print(f\"No records found for '{search_term}'.\")\n",
    "    else:\n",
    "        top_id = search_record['IdList'][0]\n",
    "        print(f\"  Found {found_count} records. Top ID: {top_id}\")\n",
    "\n",
    "        # Step 2: Fetch the full record in GenBank format\n",
    "        print(f\"\\n2. Fetching full GenBank record for ID: {top_id}\")\n",
    "        handle_fetch = Entrez.efetch(db=database, id=top_id, rettype=\"gb\", retmode=\"text\")\n",
    "        genome_record = SeqIO.read(handle_fetch, \"genbank\")\n",
    "        handle_fetch.close()\n",
    "\n",
    "        print(f\"  Record ID: {genome_record.id}\")\n",
    "        print(f\"  Description: {genome_record.description}\")\n",
    "        print(f\"  Sequence Length: {len(genome_record.seq)} bases\")\n",
    "        print(f\"  First 100 bases: {genome_record.seq[:100]}...\")\n",
    "\n",
    "        # Step 3 (Optional): Find related PubMed articles using ELink\n",
    "        print(f\"\\n3. Finding related PubMed articles using ELink...\")\n",
    "        handle_elink = Entrez.elink(dbfrom=\"nuccore\", db=\"pubmed\", LinkName=\"nuccore_pubmed\", id=top_id)\n",
    "        elink_record = Entrez.read(handle_elink)\n",
    "        handle_elink.close()\n",
    "\n",
    "        linked_pubmed_ids = []\n",
    "        if elink_record[0]['LinkSetDb']:\n",
    "            for link_set_db in record[0]['LinkSetDb']:\n",
    "                linked_pubmed_ids.extend([link['Id'] for link in link_set_db['Link'] ])\n",
    "\n",
    "        if linked_pubmed_ids:\n",
    "            print(f\"  Found {len(linked_pubmed_ids)} related PubMed articles. First 3 IDs: {linked_pubmed_ids[:3]}\")\n",
    "        else:\n",
    "            print(\"  No directly linked PubMed articles found for this record.\")\n",
    "\n",
    "except Exception as e:\n",
    "    print(f\"An error occurred during the workflow: {e}\")"
   ]
  },
  {
   "cell_type": "markdown",
   "metadata": {},
   "source": [
    "---"
   ]
  },
  {
   "cell_type": "markdown",
   "metadata": {},
   "source": [
    "## **Conclusion: Programmatic Access to Biological Knowledge**\n",
    "\n",
    "You've now successfully navigated the world of NCBI databases using Biopython's `Bio.Entrez` module!\n",
    "\n",
    "You can now:\n",
    "\n",
    "* **Discover** available databases and their fields (`EInfo`).\n",
    "* **Search** for records based on various criteria to get their IDs (`ESearch`).\n",
    "* **Fetch** the full data records in desired formats using those IDs (`EFetch`).\n",
    "* **Link** records across different databases (`ELink`).\n",
    "\n",
    "This programmatic access is invaluable for automating data retrieval, performing large-scale analyses, and ensuring reproducibility in your bioinformatics workflows. Remember to always be respectful of NCBI's usage guidelines (e.g., provide your email, avoid excessive rapid requests).\n",
    "\n",
    "Keep practicing, explore more of Biopython's capabilities, and leverage the power of Entrez for your biological research!"
   ]
  }
 ],
 "metadata": {
  "kernelspec": {
   "display_name": "nlp",
   "language": "python",
   "name": "python3"
  },
  "language_info": {
   "codemirror_mode": {
    "name": "ipython",
    "version": 3
   },
   "file_extension": ".py",
   "mimetype": "text/x-python",
   "name": "python",
   "nbconvert_exporter": "python",
   "pygments_lexer": "ipython3",
   "version": "3.11.11"
  }
 },
 "nbformat": 4,
 "nbformat_minor": 4
}
