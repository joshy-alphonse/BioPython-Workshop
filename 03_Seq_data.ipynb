{
 "cells": [
  {
   "cell_type": "markdown",
   "metadata": {},
   "source": [
    "# **Programming for Biologists 3: Unlocking Insights from A FASTA File**\n",
    "\n",
    "**Welcome, data explorer!**\n",
    "\n",
    "In biological research, we often encounter sequences (DNA, RNA, proteins) stored in a common format called **FASTA**. A FASTA file is essentially a text file where each sequence has a header line (starting with `>`) followed by the actual sequence data.\n",
    "\n",
    "Imagine you've received a FASTA file containing hundreds or thousands of newly sequenced genes or protein variants. You can't manually scroll through all of them! This notebook will show you how to use Python to automatically read these files, extract the valuable information, and perform basic analyses to gain quick insights into your sequences.\n",
    "\n",
    "This is a crucial skill for anyone working with genomic or proteomic data, allowing you to quickly understand the characteristics of your sequence collections."
   ]
  },
  {
   "cell_type": "markdown",
   "metadata": {},
   "source": [
    "---"
   ]
  },
  {
   "cell_type": "markdown",
   "metadata": {},
   "source": [
    "## **1. Setting Up: Creating a Sample FASTA File**\n",
    "\n",
    "To make this notebook immediately runnable, we'll first create a small, artificial FASTA file directly in Python. In your real work, you would simply replace `\"sample_genes.fasta\"` with the name of your actual FASTA file.\n",
    "\n",
    "Each entry in a FASTA file has:\n",
    "* A **header line** starting with `>` (e.g., `>gene_A_human | Homo sapiens gene A`). This usually contains the sequence ID and description.\n",
    "* One or more lines of the **sequence data** itself (e.g., `ATGCGT...`)."
   ]
  },
  {
   "cell_type": "code",
   "execution_count": null,
   "metadata": {},
   "outputs": [],
   "source": [
    "# Define the content for our sample FASTA file\n",
    "fasta_content = \"\"\"\n",
    ">gene_1 | Hypothetical protein from bacteria\n",
    "ATGCGTACGTAGCTAGCTAGCTAGCTACGATGCATGCA\n",
    "GCTAGCTAGCTAGCTAGCTAGCTAGCTAGCTACGTACG\n",
    ">gene_2 | Ribosomal RNA from yeast\n",
    "AUGCAGUCAGUCAGUCAUGCAUGCUGA\n",
    ">gene_3 | Viral capsid protein\n",
    "ATGGCAAGGTTTCAGGTAACCAAA\n",
    "GGGTTTCCCG\n",
    ">gene_4 | Short regulatory element\n",
    "ATGC\n",
    ">gene_5 | Longest human gene fragment\n",
    "GATCGATCGATCGATCGATCGATCGATCGATCGATCGATCGATCGATCGATCGATCGATC\n",
    "GATCGATCGATCGATCGATCGATCGATCGATCGATCGATCGATCGATCGATCGATCGATC\n",
    "GATCGATCGATCGATCGATCGATCGATCGATCGATCGATCGATCGATCGATCGATCGATC\n",
    ">gene_6 | Another bacterial gene\n",
    "ATGCGCGCGCGCGCGCGCGCGCGCGCGCGCGCGCGCGCGCGCGCGCGCGCGCGCGCGCGC\n",
    "GCGCGCGCGCGCGCGCGCGCGCGCGCGCGCGCGCGCGCGCGCGCGCGCGCGCGCGCGCGC\n",
    "ATATATATATATATATATATATATATATATATATATATATATATATATATATATATATAT\n",
    "ATATATATATATATATATATATATATATATATATATATATATATATATATATATATATAT\n",
    "\"\"\"\n",
    "\n",
    "# Name of our sample file\n",
    "file_name = \"sample_genes.fasta\"\n",
    "\n",
    "# Write the content to the file\n",
    "with open(file_name, \"w\") as f:\n",
    "    f.write(fasta_content)\n",
    "\n",
    "print(f\"Successfully created '{file_name}' with sample data.\")"
   ]
  },
  {
   "cell_type": "markdown",
   "metadata": {},
   "source": [
    "---"
   ]
  },
  {
   "cell_type": "markdown",
   "metadata": {},
   "source": [
    "## **2. Parsing the FASTA File: Extracting IDs and Sequences**\n",
    "\n",
    "Now that we have our FASTA file, let's write Python code to read it and pull out the important pieces: the sequence ID (from the header) and the sequence itself.\n",
    "\n",
    "We'll store these in a **dictionary**, where each sequence ID will be a `key` and its corresponding sequence will be the `value`."
   ]
  },
  {
   "cell_type": "code",
   "execution_count": null,
   "metadata": {},
   "outputs": [],
   "source": [
    "sequences_dict = {} # This dictionary will store our parsed data\n",
    "current_sequence_id = None # To keep track of the current sequence's ID\n",
    "\n",
    "print(f\"--- Parsing '{file_name}' ---\")\n",
    "\n",
    "with open(file_name, \"r\") as fasta_file:\n",
    "    for line in fasta_file:\n",
    "        line = line.strip() # Remove leading/trailing whitespace (like newlines)\n",
    "\n",
    "        if not line: # Skip empty lines\n",
    "            continue\n",
    "\n",
    "        if line.startswith('>'):\n",
    "            # This is a header line\n",
    "            # Extract the ID (everything after '>')\n",
    "            current_sequence_id = line[1:]\n",
    "            # Initialize an empty string for the sequence associated with this ID\n",
    "            sequences_dict[current_sequence_id] = \"\"\n",
    "        else:\n",
    "            # This is a sequence line\n",
    "            if current_sequence_id is not None:\n",
    "                # Add (append) this line of sequence to the current ID's sequence\n",
    "                # Convert to uppercase to make analysis consistent (e.g., 'a' vs 'A')\n",
    "                sequences_dict[current_sequence_id] += line.upper()\n",
    "            else:\n",
    "                print(\"Warning: Sequence line found before any header. Skipping:\", line)\n",
    "\n",
    "print(\"--- Parsing complete! ---\")\n",
    "print(f\"Found {len(sequences_dict)} sequences.\")\n",
    "\n",
    "# Let's print the first few entries to see what we've got\n",
    "print(\"\\nFirst 3 parsed sequences (ID and start of sequence):\")\n",
    "count = 0\n",
    "for seq_id, sequence in sequences_dict.items():\n",
    "    if count < 3:\n",
    "        print(f\"ID: {seq_id[:30]}... | Sequence: {sequence[:40]}...\")\n",
    "        count += 1\n",
    "    else:\n",
    "        break"
   ]
  },
  {
   "cell_type": "markdown",
   "metadata": {},
   "source": [
    "**Why this matters :** This is the foundational step for almost any sequence analysis. Once parsed, your sequences are in a structured format (a dictionary) that Python can easily work with."
   ]
  },
  {
   "cell_type": "markdown",
   "metadata": {},
   "source": [
    "---"
   ]
  },
  {
   "cell_type": "markdown",
   "metadata": {},
   "source": [
    "## **3. Gaining Insights: Basic Sequence Analysis**\n",
    "\n",
    "With our sequences parsed and stored in `sequences_dict`, we can now start asking questions and extracting useful information."
   ]
  },
  {
   "cell_type": "markdown",
   "metadata": {},
   "source": [
    "### **3.1 Sequence Lengths**\n",
    "\n",
    "The length of a sequence can tell us a lot (e.g., coding vs. non-coding RNA, full-length protein vs. fragment). We can easily find the length of each sequence using `len()`."
   ]
  },
  {
   "cell_type": "code",
   "execution_count": null,
   "metadata": {},
   "outputs": [],
   "source": [
    "sequence_lengths = {} # To store ID -> Length mapping\n",
    "all_lengths = [] # To store all lengths for overall statistics\n",
    "\n",
    "print(\"--- Sequence Lengths ---\")\n",
    "for seq_id, sequence in sequences_dict.items():\n",
    "    length = len(sequence)\n",
    "    sequence_lengths[seq_id] = length\n",
    "    all_lengths.append(length)\n",
    "    print(f\"ID: {seq_id[:30]}... | Length: {length} bases\")\n",
    "\n",
    "print(f\"\\nAverage sequence length: {sum(all_lengths) / len(all_lengths):.2f}\")\n",
    "print(f\"Longest sequence length: {max(all_lengths)}\")\n",
    "print(f\"Shortest sequence length: {min(all_lengths)}\")"
   ]
  },
  {
   "cell_type": "markdown",
   "metadata": {},
   "source": [
    "### **3.2 GC Content**\n",
    "\n",
    "GC content (percentage of Guanine and Cytosine bases) is a fundamental property of DNA that can vary significantly between organisms and even within different regions of a genome. It's often related to melting temperature and gene stability.\n",
    "\n",
    "Recall our `calculate_gc_content` function from a previous notebook (or let's define it again for this one):"
   ]
  },
  {
   "cell_type": "code",
   "execution_count": null,
   "metadata": {},
   "outputs": [],
   "source": [
    "def calculate_gc_content(dna_sequence):\n",
    "    \"\"\"Calculates the percentage of G and C bases in a DNA sequence.\"\"\"\n",
    "    # Ensure sequence is uppercase for consistent counting\n",
    "    dna_sequence = dna_sequence.upper()\n",
    "    g_count = dna_sequence.count('G')\n",
    "    c_count = dna_sequence.count('C')\n",
    "    total_bases = len(dna_sequence)\n",
    "\n",
    "    if total_bases == 0:\n",
    "        return 0.0\n",
    "    else:\n",
    "        gc_percent = ((g_count + c_count) / total_bases) * 100\n",
    "        return gc_percent\n",
    "\n",
    "print(\"--- GC Content for Each Sequence ---\")\n",
    "gc_contents = {} # To store ID -> GC Content mapping\n",
    "for seq_id, sequence in sequences_dict.items():\n",
    "    gc = calculate_gc_content(sequence)\n",
    "    gc_contents[seq_id] = gc\n",
    "    print(f\"ID: {seq_id[:30]}... | Length: {len(sequence)} | GC Content: {gc:.2f}%\")\n",
    "\n",
    "# Find the sequence with highest/lowest GC content (if you want to be fancy)\n",
    "if gc_contents:\n",
    "    highest_gc_id = max(gc_contents, key=gc_contents.get)\n",
    "    lowest_gc_id = min(gc_contents, key=gc_contents.get)\n",
    "    print(f\"\\nSequence with highest GC content ({gc_contents[highest_gc_id]:.2f}%): {highest_gc_id}\")\n",
    "    print(f\"Sequence with lowest GC content ({gc_contents[lowest_gc_id]:.2f}%): {lowest_gc_id}\")"
   ]
  },
  {
   "cell_type": "markdown",
   "metadata": {},
   "source": [
    "### **3.3 Finding Specific Motifs/Patterns**\n",
    "\n",
    "You might be interested if certain short sequences (motifs) are present in your longer sequences. For example, a restriction enzyme recognition site (`GAATTC` for EcoRI), or a protein domain signature."
   ]
  },
  {
   "cell_type": "code",
   "execution_count": null,
   "metadata": {},
   "outputs": [],
   "source": [
    "motif = \"ATGCAG\" # Let's search for this motif\n",
    "found_in_sequences = []\n",
    "\n",
    "print(f\"--- Searching for motif '{motif}' ---\")\n",
    "for seq_id, sequence in sequences_dict.items():\n",
    "    # Check if the motif exists in the sequence (case-insensitive search is good practice)\n",
    "    if motif.upper() in sequence.upper():\n",
    "        found_in_sequences.append(seq_id)\n",
    "        print(f\"Motif found in: {seq_id}\")\n",
    "\n",
    "if found_in_sequences:\n",
    "    print(f\"\\nTotal sequences containing '{motif}': {len(found_in_sequences)}\")\n",
    "else:\n",
    "    print(f\"Motif '{motif}' not found in any sequence.\")"
   ]
  },
  {
   "cell_type": "markdown",
   "metadata": {},
   "source": [
    "**Your Turn! (Exercise 1)**\n",
    "\n",
    "1.  **Count Specific Bases:** Modify the code to count the total number of 'A' bases across *all* sequences in your `sequences_dict`.\n",
    "    *Hint: You'll need a loop and `sequence.count('A')`*.\n",
    "2.  **Find Short Sequences:** Create a list of all sequence IDs that have a length less than 50 bases. Print this list.\n",
    "3.  **Search for another motif:** Pick a new 4-base DNA motif (e.g., `\"TATA\"` or `\"GATA\"`) and find out which sequences contain it. Print the IDs of the sequences where it's found."
   ]
  },
  {
   "cell_type": "code",
   "execution_count": null,
   "metadata": {},
   "outputs": [],
   "source": [
    "# Write your code for Exercise 1 here!\n",
    "\n",
    "# 1. Count Total 'A' Bases\n",
    "total_a_bases = 0\n",
    "for seq_id, sequence in sequences_dict.items():\n",
    "    total_a_bases += sequence.count('A')\n",
    "print(f\"\\nTotal 'A' bases across all sequences: {total_a_bases}\")\n",
    "\n",
    "# 2. Find Short Sequences\n",
    "short_sequence_ids = []\n",
    "for seq_id, sequence in sequences_dict.items():\n",
    "    if len(sequence) < 50:\n",
    "        short_sequence_ids.append(seq_id)\n",
    "print(\"\\nShort sequences (length < 50):\", short_sequence_ids)\n",
    "\n",
    "# 3. Search for a new motif\n",
    "new_motif = \"GATA\"\n",
    "sequences_with_new_motif = []\n",
    "print(f\"\\n--- Searching for new motif '{new_motif}' ---\")\n",
    "for seq_id, sequence in sequences_dict.items():\n",
    "    if new_motif.upper() in sequence.upper():\n",
    "        sequences_with_new_motif.append(seq_id)\n",
    "        print(f\"Motif '{new_motif}' found in: {seq_id}\")\n",
    "\n",
    "if sequences_with_new_motif:\n",
    "    print(f\"Total sequences containing '{new_motif}': {len(sequences_with_new_motif)}\")\n",
    "else:\n",
    "    print(f\"Motif '{new_motif}' not found in any sequence.\")"
   ]
  },
  {
   "cell_type": "markdown",
   "metadata": {},
   "source": [
    "---"
   ]
  },
  {
   "cell_type": "markdown",
   "metadata": {},
   "source": [
    "## **4. Advanced Insight (Optional): Visualizing Length Distribution**\n",
    "\n",
    "For larger datasets, looking at a list of lengths isn't very helpful. A histogram (a type of bar chart) can quickly show you the distribution of sequence lengths. Do you have many short sequences? A few very long ones? Most are medium?\n",
    "\n",
    "To create plots, we often use a powerful library called `matplotlib.pyplot` (we usually import it as `plt`)."
   ]
  },
  {
   "cell_type": "code",
   "execution_count": null,
   "metadata": {},
   "outputs": [],
   "source": [
    "# Make sure you have matplotlib installed: !pip install matplotlib\n",
    "\n",
    "import matplotlib.pyplot as plt\n",
    "\n",
    "if all_lengths: # Only try to plot if we actually have lengths\n",
    "    plt.figure(figsize=(10, 6))\n",
    "    plt.hist(all_lengths, bins=10, edgecolor='black') # 'bins' divides data into groups\n",
    "    plt.title('Distribution of Sequence Lengths')\n",
    "    plt.xlabel('Sequence Length (bases)')\n",
    "    plt.ylabel('Number of Sequences')\n",
    "    plt.grid(axis='y', alpha=0.75)\n",
    "    plt.show()\n",
    "else:\n",
    "    print(\"No sequence lengths to plot. Ensure your FASTA file was parsed correctly.\")"
   ]
  },
  {
   "cell_type": "markdown",
   "metadata": {},
   "source": [
    "**Why this matters:** Visualizations are incredibly important for quickly understanding trends and quality control in large biological datasets. A quick look at a length distribution can tell you if your sequencing run produced fragments of expected sizes or if there are issues."
   ]
  },
  {
   "cell_type": "markdown",
   "metadata": {},
   "source": [
    "---"
   ]
  },
  {
   "cell_type": "markdown",
   "metadata": {},
   "source": [
    "## **Conclusion: Your Gateway to Sequence Analysis**\n",
    "\n",
    "You've successfully built a Python workflow to:\n",
    "\n",
    "1.  **Prepare** a sample FASTA file.\n",
    "2.  **Parse** FASTA data, extracting sequence IDs and sequences.\n",
    "3.  **Analyze** key properties like sequence lengths and GC content.\n",
    "4.  **Search** for specific motifs.\n",
    "5.  (Optionally) **Visualize** data distributions.\n",
    "\n",
    "These are fundamental operations that form the basis of more complex bioinformatics tasks like genome assembly, gene annotation, phylogenetic analysis, and functional prediction. With these skills, you're well-equipped to start exploring your own biological sequence data!"
   ]
  }
 ],
 "metadata": {
  "kernelspec": {
   "display_name": "nlp",
   "language": "python",
   "name": "python3"
  },
  "language_info": {
   "codemirror_mode": {
    "name": "ipython",
    "version": 3
   },
   "file_extension": ".py",
   "mimetype": "text/x-python",
   "name": "python",
   "nbconvert_exporter": "python",
   "pygments_lexer": "ipython3",
   "version": "3.11.11"
  }
 },
 "nbformat": 4,
 "nbformat_minor": 4
}
