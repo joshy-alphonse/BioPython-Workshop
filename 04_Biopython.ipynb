{
 "cells": [
  {
   "cell_type": "markdown",
   "metadata": {},
   "source": [
    "# **Programming for Biologists: An Introduction to Biopython**\n",
    "\n",
    "**Welcome, Biopython explorers!**\n",
    "\n",
    "You've now mastered the basics of Python, and even delved into powerful libraries like NumPy, Pandas, and Matplotlib for general data analysis and visualization. But how do you specifically handle the unique challenges of biological data – DNA, RNA, protein sequences, complex file formats like FASTA and GenBank, and interacting with online databases?\n",
    "\n",
    "Enter **Biopython!**\n",
    "\n",
    "Biopython is a comprehensive collection of Python tools specifically designed for **computational biology and bioinformatics**. It provides easy-to-use interfaces to common biological data formats, command-line tools, and online databases, saving you immense time and effort.\n",
    "\n",
    "Think of Biopython as your specialized bioinformatics lab equipment – pre-built, optimized, and ready to tackle tasks like:\n",
    "* Manipulating DNA, RNA, and protein sequences.\n",
    "* Parsing complex sequence files (FASTA, GenBank, PDB, etc.).\n",
    "* Performing sequence alignments.\n",
    "* Interacting with NCBI databases (GenBank, PubMed, BLAST).\n",
    "* Working with phylogenetic trees, population genetics, and much more.\n",
    "\n",
    "In this notebook, we'll focus on the fundamental aspects of Biopython: working with sequences and parsing common sequence files."
   ]
  },
  {
   "cell_type": "markdown",
   "metadata": {},
   "source": [
    "---"
   ]
  },
  {
   "cell_type": "markdown",
   "metadata": {},
   "source": [
    "## **1. Getting Started: Installation and Core Modules**\n",
    "\n",
    "Before you can use Biopython, you need to ensure it's installed. If you're using a fresh Python environment or Colab, you might need to run the following command (you only need to do this once per environment):\n",
    "\n",
    "```bash\n",
    "!pip install biopython\n",
    "```\n",
    "\n",
    "Then, we'll import the modules we'll be using."
   ]
  },
  {
   "cell_type": "code",
   "execution_count": null,
   "metadata": {},
   "outputs": [],
   "source": [
    "# Run this cell if Biopython is not installed in your environment (e.g., in Google Colab or new setup)\n",
    "# !pip install biopython\n",
    "\n",
    "from Bio.Seq import Seq           # For creating and manipulating sequence objects\n",
    "from Bio.SeqRecord import SeqRecord # For storing sequences with metadata (ID, description)\n",
    "from Bio import SeqIO             # For parsing sequence files (FASTA, GenBank, etc.)\n",
    "\n",
    "print(\"Biopython modules imported successfully!\")"
   ]
  },
  {
   "cell_type": "markdown",
   "metadata": {},
   "source": [
    "---"
   ]
  },
  {
   "cell_type": "markdown",
   "metadata": {},
   "source": [
    "## **2. The `Seq` Object: Your Biological String**\n",
    "\n",
    "At the heart of Biopython is the `Seq` object. While a standard Python string (`\"ATGC\"`) can store a sequence, the `Seq` object adds biological intelligence.\n",
    "\n",
    "It understands that 'A' is Adenine, and can perform operations like transcription or translation directly, which a normal string cannot.\n",
    "\n",
    "### **2.1 Creating `Seq` Objects**\n",
    "\n",
    "You create a `Seq` object by passing a string to `Seq()`."
   ]
  },
  {
   "cell_type": "code",
   "execution_count": null,
   "metadata": {},
   "outputs": [],
   "source": [
    "# Creating DNA, RNA, and protein sequences\n",
    "dna_seq = Seq(\"ATGCGTACGTAGCTAGCTAGCTAGCTACGATGCATGCA\")\n",
    "rna_seq = Seq(\"AUGCAGUCAGUCAGUCAUGCAUGCUGA\")\n",
    "protein_seq = Seq(\"ARNDCEQGHI\")\n",
    "\n",
    "print(f\"DNA Sequence: {dna_seq}, Type: {type(dna_seq)}\")\n",
    "print(f\"RNA Sequence: {rna_seq}, Type: {type(rna_seq)}\")\n",
    "print(f\"Protein Sequence: {protein_seq}, Type: {type(protein_seq)}\")\n",
    "\n",
    "# You can also specify the alphabet, though often not strictly necessary for common tasks\n",
    "# from Bio.Alphabet import DNAAlphabet\n",
    "# dna_seq_strict = Seq(\"ATGC\", DNAAlphabet())\n",
    "# print(f\"Strict DNA Seq: {dna_seq_strict}, Type: {type(dna_seq_strict)}\")"
   ]
  },
  {
   "cell_type": "markdown",
   "metadata": {},
   "source": [
    "### **2.2 Basic `Seq` Operations**\n",
    "\n",
    "`Seq` objects behave much like strings for basic operations but have powerful biological methods."
   ]
  },
  {
   "cell_type": "code",
   "execution_count": null,
   "metadata": {},
   "outputs": [],
   "source": [
    "my_dna = Seq(\"ATGCGTAGCTA\")\n",
    "\n",
    "print(f\"Original DNA: {my_dna}\")\n",
    "\n",
    "# Length\n",
    "print(f\"Length: {len(my_dna)}\")\n",
    "\n",
    "# Slicing\n",
    "print(f\"First 3 bases: {my_dna[0:3]}\")\n",
    "\n",
    "# Concatenation\n",
    "another_dna = Seq(\"TCGA\")\n",
    "combined_dna = my_dna + another_dna\n",
    "print(f\"Combined DNA: {combined_dna}\")\n",
    "\n",
    "# Counting bases\n",
    "print(f\"Number of 'A's: {my_dna.count('A')}\")\n",
    "print(f\"Number of 'G's: {my_dna.count('G')}\")"
   ]
  },
  {
   "cell_type": "markdown",
   "metadata": {},
   "source": [
    "### **2.3 Biological Operations with `Seq`**\n",
    "\n",
    "This is where `Seq` objects truly differ from plain strings."
   ]
  },
  {
   "cell_type": "code",
   "execution_count": null,
   "metadata": {},
   "outputs": [],
   "source": [
    "coding_dna = Seq(\"ATGGCCATTGTAATGGGCCGCTGAAAGGGTGCCCGATAG\")\n",
    "print(f\"Coding DNA: {coding_dna}\")\n",
    "\n",
    "# 1. Transcription (DNA to RNA)\n",
    "messenger_rna = coding_dna.transcribe()\n",
    "print(f\"mRNA (Transcription): {messenger_rna}\")\n",
    "\n",
    "# 2. Reverse Complement (important for working with both strands of DNA)\n",
    "reverse_comp_dna = coding_dna.reverse_complement()\n",
    "print(f\"Reverse Complement: {reverse_comp_dna}\")\n",
    "\n",
    "# 3. Translation (mRNA to Protein)\n",
    "# By default, it uses the standard genetic code and translates until a stop codon or end of sequence.\n",
    "# Note: The output might include '*' for stop codons.\n",
    "amino_acids = messenger_rna.translate()\n",
    "print(f\"Amino Acids (Translation): {amino_acids}\")\n",
    "\n",
    "# You can also translate directly from DNA\n",
    "protein_from_dna = coding_dna.translate()\n",
    "print(f\"Protein from DNA (Translation): {protein_from_dna}\")\n",
    "\n",
    "# Translate using a different genetic code (e.g., fungal mitochondrial code = 4)\n",
    "# print(f\"Protein (Fungal Mito): {coding_dna.translate(table=4)}\")"
   ]
  },
  {
   "cell_type": "markdown",
   "metadata": {},
   "source": [
    "**Your Turn! (Seq Exercise)**\n",
    "\n",
    "1.  Create a `Seq` object for the following DNA sequence: `\"GATGGAACTGA\"`.\n",
    "2.  Get its reverse complement and print it.\n",
    "3.  Transcribe the original DNA sequence to RNA and print it.\n",
    "4.  Translate the resulting RNA sequence into a protein sequence and print it."
   ]
  },
  {
   "cell_type": "code",
   "execution_count": null,
   "metadata": {},
   "outputs": [],
   "source": [
    "# Write your code for Seq Exercise here!\n"
   ]
  },
  {
   "cell_type": "markdown",
   "metadata": {},
   "source": [
    "---"
   ]
  },
  {
   "cell_type": "markdown",
   "metadata": {},
   "source": [
    "## **3. The `SeqRecord` Object: Sequence with Identity**\n",
    "\n",
    "While `Seq` handles the sequence itself, real-world biological data often comes with important metadata: an ID, a name, a description, and sometimes features (like gene locations). The `SeqRecord` object bundles a `Seq` object with all this descriptive information.\n",
    "\n",
    "Think of a `SeqRecord` as a complete entry from a FASTA or GenBank file."
   ]
  },
  {
   "cell_type": "code",
   "execution_count": null,
   "metadata": {},
   "outputs": [],
   "source": [
    "# Create a Seq object first\n",
    "my_gene_seq = Seq(\"ATGCATGCAACTGACGTAGCTAGCTAGC\")\n",
    "\n",
    "# Create a SeqRecord from the Seq object and add metadata\n",
    "record = SeqRecord(\n",
    "    my_gene_seq,\n",
    "    id=\"gene_001\",\n",
    "    name=\"gene_A\",\n",
    "    description=\"Hypothetical protein from E. coli K12\"\n",
    ")\n",
    "\n",
    "print(f\"Record ID: {record.id}\")\n",
    "print(f\"Record Name: {record.name}\")\n",
    "print(f\"Record Description: {record.description}\")\n",
    "print(f\"Record Sequence: {record.seq}\")\n",
    "print(f\"Type of record.seq: {type(record.seq)}\")\n",
    "\n",
    "# You can also add annotations (key-value pairs) and features (more complex biological annotations)\n",
    "record.annotations[\"organism\"] = \"Escherichia coli\"\n",
    "record.annotations[\"source\"] = \"GenBank\"\n",
    "print(f\"\\nRecord annotations: {record.annotations}\")\n",
    "\n",
    "# Access a specific annotation\n",
    "print(f\"Organism: {record.annotations['organism']}\")"
   ]
  },
  {
   "cell_type": "markdown",
   "metadata": {},
   "source": [
    "**Your Turn! (SeqRecord Exercise)**\n",
    "\n",
    "1.  Create a `Seq` object for the protein sequence: `\"MKLVLALLS\"`.\n",
    "2.  Create a `SeqRecord` object for this protein with:\n",
    "    * `id`: `\"PROT_007\"`\n",
    "    * `name`: `\"signal_peptide_7\"`\n",
    "    * `description`: `\"A putative signal peptide from a viral protein\"`\n",
    "3.  Add an annotation to this `SeqRecord` with `\"function\"` as the key and `\"cellular trafficking\"` as the value.\n",
    "4.  Print the `id`, `description`, and the `function` annotation of your `SeqRecord`."
   ]
  },
  {
   "cell_type": "code",
   "execution_count": null,
   "metadata": {},
   "outputs": [],
   "source": [
    "# Write your code for SeqRecord Exercise here!\n"
   ]
  },
  {
   "cell_type": "markdown",
   "metadata": {},
   "source": [
    "---"
   ]
  },
  {
   "cell_type": "markdown",
   "metadata": {},
   "source": [
    "## **4. Parsing Sequence Files with `Bio.SeqIO`**\n",
    "\n",
    "This is perhaps the most heavily used part of Biopython. `Bio.SeqIO` provides a simple way to read and write sequence files in various formats (FASTA, GenBank, FASTQ, EMBL, Nexus, etc.).\n",
    "\n",
    "### **4.1 Creating a Sample FASTA File for Parsing**\n",
    "\n",
    "To demonstrate `SeqIO`, let's create a temporary FASTA file just like we did in previous notebooks."
   ]
  },
  {
   "cell_type": "code",
   "execution_count": null,
   "metadata": {},
   "outputs": [],
   "source": [
    "# Define the content for our sample FASTA file\n",
    "fasta_content = \"\"\"\n",
    ">gene_alpha | E. coli gene for hypothetical protein\n",
    "ATGCGTACGTAGCTAGCTAGCTAGCTACGATGCATGCA\n",
    "GCTAGCTAGCTAGCTAGCTAGCTAGCTAGCTACGTACG\n",
    ">gene_beta | Human ribosomal RNA fragment\n",
    "AGUUCAGUCAGUCAGUCAUGCAUGCUGA\n",
    ">gene_gamma | Viral spike protein\n",
    "ATGGCAAGGTTTCAGGTAACCAAA\n",
    "GGGTTTCCCG\n",
    "\"\"\"\n",
    "\n",
    "# Name of our sample FASTA file\n",
    "sample_fasta_file = \"sample_bioseq.fasta\"\n",
    "\n",
    "# Write the content to the file\n",
    "with open(sample_fasta_file, \"w\") as f:\n",
    "    f.write(fasta_content)\n",
    "\n",
    "print(f\"Successfully created '{sample_fasta_file}' for demonstration.\")"
   ]
  },
  {
   "cell_type": "markdown",
   "metadata": {},
   "source": [
    "### **4.2 Reading Records from a FASTA File**\n",
    "\n",
    "The `SeqIO.parse()` function is your primary tool. It takes the file handle and the format string (e.g., `'fasta'`, `'genbank'`) and returns an *iterator* of `SeqRecord` objects. An iterator means it gives you one record at a time, which is memory-efficient for very large files.\n",
    "\n",
    "You can loop through this iterator to process each record."
   ]
  },
  {
   "cell_type": "code",
   "execution_count": null,
   "metadata": {},
   "outputs": [],
   "source": [
    "print(f\"--- Parsing '{sample_fasta_file}' ---\")\n",
    "\n",
    "parsed_records = [] # We'll store all records in a list for later access\n",
    "\n",
    "with open(sample_fasta_file, \"r\") as handle:\n",
    "    # SeqIO.parse returns an iterator of SeqRecord objects\n",
    "    for record in SeqIO.parse(handle, \"fasta\"):\n",
    "        print(f\"\\nRecord ID: {record.id}\")\n",
    "        print(f\"Record Name: {record.name}\")\n",
    "        print(f\"Record Description: {record.description}\")\n",
    "        print(f\"Sequence Length: {len(record.seq)}\")\n",
    "        print(f\"Sequence (first 20 bases): {record.seq[:20]}...\")\n",
    "        \n",
    "        # You can now perform biological operations on record.seq\n",
    "        if len(record.seq) > 0 and record.seq.alphabet.nucleotide:\n",
    "            print(f\"  Reverse Complement: {record.seq.reverse_complement()[:20]}...\")\n",
    "            \n",
    "        parsed_records.append(record)\n",
    "\n",
    "print(f\"\\nTotal records parsed: {len(parsed_records)}\")"
   ]
  },
  {
   "cell_type": "markdown",
   "metadata": {},
   "source": [
    "### **4.3 Writing Records to a New FASTA File**\n",
    "\n",
    "Just as easy as reading, you can write `SeqRecord` objects to a file using `SeqIO.write()`."
   ]
  },
  {
   "cell_type": "code",
   "execution_count": null,
   "metadata": {},
   "outputs": [],
   "source": [
    "output_fasta_file = \"modified_sequences.fasta\"\n",
    "\n",
    "# Let's modify a record before writing it out (e.g., take reverse complement of first gene)\n",
    "if len(parsed_records) > 0:\n",
    "    first_record = parsed_records[0]\n",
    "    original_seq = first_record.seq\n",
    "    first_record.seq = original_seq.reverse_complement() # Change the sequence\n",
    "    first_record.description = f\"Reverse complement of {first_record.description}\" # Update description\n",
    "    first_record.id = first_record.id + \"_RC\"\n",
    "    first_record.name = first_record.name + \"_RC\"\n",
    "\n",
    "    # Write all records (including the modified first one) to a new file\n",
    "    with open(output_fasta_file, \"w\") as output_handle:\n",
    "        SeqIO.write(parsed_records, output_handle, \"fasta\")\n",
    "    print(f\"\\nSuccessfully wrote {len(parsed_records)} records to '{output_fasta_file}'.\")\n",
    "    \n",
    "    # Verify by reading the new file\n",
    "    print(f\"\\nContent of '{output_fasta_file}':\")\n",
    "    with open(output_fasta_file, \"r\") as handle:\n",
    "        for record in SeqIO.parse(handle, \"fasta\"):\n",
    "            print(f\"ID: {record.id}, Length: {len(record.seq)}, Desc: {record.description[:50]}...\")\n",
    "else:\n",
    "    print(\"No records to write. Please ensure parsing step was successful.\")"
   ]
  },
  {
   "cell_type": "markdown",
   "metadata": {},
   "source": [
    "**Your Turn! (SeqIO Exercise)**\n",
    "\n",
    "1.  Create a new dummy FASTA file named `my_proteins.fasta` with at least two protein sequences. Example:\n",
    "    ```\n",
    "    >protein_A | Hypothetical protein\n",
    "    MKNFTKGAIL\n",
    "    >protein_B | Structural protein\n",
    "    MVLSPADKTN\n",
    "    ```\n",
    "2.  Parse this `my_proteins.fasta` file using `SeqIO.parse()`.\n",
    "3.  For each protein record:\n",
    "    * Print its ID.\n",
    "    * Print its sequence.\n",
    "    * Print the length of its sequence.\n",
    "4.  Write all these protein records to a new FASTA file named `processed_proteins.fasta`."
   ]
  },
  {
   "cell_type": "code",
   "execution_count": null,
   "metadata": {},
   "outputs": [],
   "source": [
    "# Write your code for SeqIO Exercise here!\n",
    "\n",
    "# 1. Create a dummy protein FASTA file\n",
    "\n",
    "\n",
    "# 2. Parse the protein FASTA file\n",
    "\n",
    "\n",
    "# 4. Write records to a new FASTA file\n",
    "\n",
    "\n",
    "# Optional: Verify content of the new file\n"
   ]
  },
  {
   "cell_type": "markdown",
   "metadata": {},
   "source": [
    "---"
   ]
  },
  {
   "cell_type": "markdown",
   "metadata": {},
   "source": [
    "This is a fundamental toolkit for almost any bioinformatics task involving sequence data. Biopython is vast and offers modules for many other areas, including:\n",
    "\n",
    "* **`Bio.Blast`**: Running and parsing BLAST results.\n",
    "* **`Bio.Entrez`**: Interacting with NCBI databases (GenBank, PubMed, SRA, etc.) to fetch data programmatically.\n",
    "* **`Bio.Align` / `Bio.pairwise2`**: Performing sequence alignments.\n",
    "* **`Bio.PDB`**: Working with protein structures.\n",
    "* **`Bio.Phylo`**: Constructing and analyzing phylogenetic trees."
   ]
  },
  {
   "cell_type": "markdown",
   "metadata": {},
   "source": []
  }
 ],
 "metadata": {
  "kernelspec": {
   "display_name": "Python 3",
   "language": "python",
   "name": "python3"
  },
  "language_info": {
   "codemirror_mode": {
    "name": "ipython",
    "version": 3
   },
   "file_extension": ".py",
   "mimetype": "text/x-python",
   "name": "python",
   "nbconvert_exporter": "python",
   "pygments_lexer": "ipython3",
   "version": "3.9.13"
  }
 },
 "nbformat": 4,
 "nbformat_minor": 4
}
