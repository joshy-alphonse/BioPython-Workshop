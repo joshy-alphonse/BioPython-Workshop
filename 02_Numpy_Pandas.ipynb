{
 "cells": [
  {
   "cell_type": "markdown",
   "metadata": {},
   "source": [
    "# **Programming for Biologists: Advanced Data Handling with NumPy, Pandas, and Matplotlib**\n",
    "\n",
    "\n",
    "So far, you've learned the fundamental building blocks of Python: variables, lists, dictionaries, loops, and functions.\n",
    "\n",
    "But what happens when your data grows? When you have thousands of gene expression values, millions of sequencing reads, or complex patient metadata spread across large tables? Using only basic Python lists can become slow, memory-intensive, and cumbersome.\n",
    "\n",
    "This is where **Python's powerful scientific computing libraries** come into play. Think of them as specialized, high-throughput instruments in your lab – designed to handle massive amounts of data efficiently and give you sophisticated insights.\n",
    "\n",
    "In this notebook, we'll dive deep into three essential libraries:\n",
    "\n",
    "1.  **NumPy (Numerical Python):** The backbone for numerical operations, especially with large arrays (like matrices).\n",
    "2.  **Pandas (Panel Data):** Your go-to tool for structured, tabular data (like spreadsheets or databases).\n",
    "3.  **Matplotlib:** The versatile plotting library to visualize your findings."
   ]
  },
  {
   "cell_type": "markdown",
   "metadata": {},
   "source": [
    "---"
   ]
  },
  {
   "cell_type": "markdown",
   "metadata": {},
   "source": [
    "## **1. NumPy: The Foundation for Numerical Operations**\n",
    "\n",
    "NumPy is the fundamental package for scientific computing with Python. It provides support for large, multi-dimensional arrays and matrices, along with a collection of high-level mathematical functions to operate on these arrays.\n",
    "\n",
    "### **1.1 Why We Need NumPy**\n",
    "\n",
    "Imagine you're dealing with:\n",
    "* **Gene expression matrices:** Thousands of genes by hundreds of samples, all numerical values.\n",
    "* **Image data:** Microscopy images represented as grids of pixel intensities.\n",
    "* **Simulation results:** Large arrays of numerical outputs from biological models.\n",
    "* **Sequence alignments:** Representing scores for matches/mismatches across long sequences.\n",
    "\n",
    "Standard Python lists are not optimized for numerical computations on large datasets. NumPy arrays, however, are specifically designed for this, offering significant **speed** and **memory efficiency** improvements.\n",
    "\n",
    "### **1.2 The NumPy Array: The Core Concept**\n",
    "\n",
    "The primary object in NumPy is the `ndarray` (N-dimensional array). It's a grid of values (of the same type) that can be indexed by tuples of non-negative integers.\n",
    "\n",
    "To use NumPy, you first need to `import` it, usually with the alias `np`."
   ]
  },
  {
   "cell_type": "code",
   "execution_count": null,
   "metadata": {},
   "outputs": [],
   "source": [
    "import numpy as np\n",
    "\n",
    "# 1. Creating NumPy Arrays\n",
    "print(\"--- Creating NumPy Arrays ---\")\n",
    "\n",
    "# From a Python list\n",
    "gene_expression = np.array([10.5, 22.1, 5.8, 15.0])\n",
    "print(\"Gene Expression Array:\", gene_expression)\n",
    "print(\"Type:\", type(gene_expression))\n",
    "\n",
    "# 2D Array (Matrix) - like a small table\n",
    "protein_data = np.array([\n",
    "    [100, 25, 0.5],   # Protein 1: MW, pI, Concentration\n",
    "    [120, 30, 0.7],   # Protein 2\n",
    "    [90,  20, 0.4]    # Protein 3\n",
    "])\n",
    "print(\"\\nProtein Data Matrix:\\n\", protein_data)\n"
   ]
  },
  {
   "cell_type": "markdown",
   "metadata": {},
   "source": [
    "### **1.3 Array Attributes: Understanding Your Data's Structure**\n",
    "\n",
    "Arrays have useful attributes that tell you about their dimensions, size, and data type."
   ]
  },
  {
   "cell_type": "code",
   "execution_count": null,
   "metadata": {},
   "outputs": [],
   "source": [
    "my_array = np.array([[1, 2, 3], [4, 5, 6]])\n",
    "\n",
    "print(\"Original Array:\\n\", my_array)\n",
    "\n",
    "print(\"\\nShape (rows, columns):\", my_array.shape) # (2, 3) means 2 rows, 3 columns\n",
    "print(\"Number of dimensions:\", my_array.ndim) # 2 dimensions\n",
    "print(\"Total number of elements:\", my_array.size) # 2 * 3 = 6 elements\n",
    "print(\"Data type of elements:\", my_array.dtype) # int64 (integer with 64 bits)"
   ]
  },
  {
   "cell_type": "markdown",
   "metadata": {},
   "source": [
    "### **1.4 Array Operations: Fast Math!**\n",
    "\n",
    "NumPy allows for incredibly fast element-wise operations, meaning an operation is applied to each corresponding element in arrays. This is much faster than using loops with Python lists."
   ]
  },
  {
   "cell_type": "code",
   "execution_count": null,
   "metadata": {},
   "outputs": [],
   "source": [
    "temp_celsius = np.array([20, 25, 30, 35]) # Temperature in Celsius\n",
    "\n",
    "# Convert Celsius to Fahrenheit: F = C * (9/5) + 32\n",
    "temp_fahrenheit = temp_celsius * (9/5) + 32\n",
    "print(\"Celsius:\", temp_celsius)\n",
    "print(\"Fahrenheit:\", temp_fahrenheit)\n",
    "\n"
   ]
  },
  {
   "cell_type": "code",
   "execution_count": null,
   "metadata": {},
   "outputs": [],
   "source": [
    "# Element-wise addition of two arrays (e.g., adding experimental noise)\n",
    "expression_a = np.array([100, 150, 200])\n",
    "expression_b = np.array([10, 20, 30])\n",
    "total_expression = expression_a + expression_b\n",
    "print(\"\\nExpression A:\", expression_a)\n",
    "print(\"Expression B:\", expression_b)\n",
    "print(\"Total Expression (A+B):\", total_expression)\n",
    "\n"
   ]
  },
  {
   "cell_type": "code",
   "execution_count": null,
   "metadata": {},
   "outputs": [],
   "source": [
    "# Mathematical functions (e.g., log-transforming expression data)\n",
    "log_expression = np.log2(expression_a)\n",
    "print(\"\\nLog2 Expression A:\", log_expression)"
   ]
  },
  {
   "cell_type": "markdown",
   "metadata": {},
   "source": [
    "### **1.5 Indexing and Slicing Arrays**\n",
    "\n",
    "Just like lists, you can access specific elements or sub-sections of arrays. NumPy offers powerful indexing techniques."
   ]
  },
  {
   "cell_type": "code",
   "execution_count": null,
   "metadata": {},
   "outputs": [],
   "source": [
    "data_matrix = np.array([\n",
    "    [10, 20, 30, 40],\n",
    "    [50, 60, 70, 80],\n",
    "    [90, 100, 110, 120]\n",
    "])\n",
    "\n",
    "print(\"Original Data Matrix:\\n\", data_matrix)\n",
    "\n",
    "# Accessing a single element (row, column)\n",
    "element = data_matrix[1, 2] # Row 1 (2nd row), Column 2 (3rd column) - 70\n",
    "print(\"\\nElement at (1, 2):\", element)\n",
    "\n"
   ]
  },
  {
   "cell_type": "code",
   "execution_count": null,
   "metadata": {},
   "outputs": [],
   "source": [
    "# Slicing rows\n",
    "first_row = data_matrix[0, :]\n",
    "print(\"\\nFirst Row (all columns):\", first_row)\n",
    "\n",
    "all_rows_first_two_cols = data_matrix[:, 0:2]\n",
    "print(\"\\nAll Rows, first two Columns:\\n\", all_rows_first_two_cols)\n",
    "\n"
   ]
  },
  {
   "cell_type": "code",
   "execution_count": null,
   "metadata": {},
   "outputs": [],
   "source": [
    "# Conditional Indexing (very powerful for filtering data!)\n",
    "high_values = data_matrix[data_matrix > 75] # Get all values greater than 75\n",
    "print(\"\\nValues greater than 75:\", high_values)"
   ]
  },
  {
   "cell_type": "markdown",
   "metadata": {},
   "source": [
    "**Your Turn! (NumPy Exercise)**\n",
    "\n",
    "Imagine you have experimental results for 5 replicates of 3 different assays.\n",
    "\n",
    "1.  Create a NumPy array called `assay_results` with the following data:\n",
    "    `[[15, 22, 18], [20, 25, 23], [12, 19, 17], [18, 24, 20], [16, 21, 19]]`\n",
    "    * The rows represent replicates, columns represent assays.\n",
    "2.  Print the `shape` and `ndim` of your `assay_results` array.\n",
    "3.  Calculate the **average** result for `Assay 2` (the second column) and print it.\n",
    "    * *Hint:* You can select a column using slicing (e.g., `my_array[:, 1]`) and then use `np.mean()`.\n",
    "4.  Identify and print all results in `assay_results` that are **greater than 20**."
   ]
  },
  {
   "cell_type": "code",
   "execution_count": null,
   "metadata": {},
   "outputs": [],
   "source": [
    "# Write your code for NumPy Exercise here!\n"
   ]
  },
  {
   "cell_type": "markdown",
   "metadata": {},
   "source": [
    "---"
   ]
  },
  {
   "cell_type": "markdown",
   "metadata": {},
   "source": [
    "## **2. Pandas: The Data Scientist's Spreadsheet**\n",
    "\n",
    "While NumPy is great for numerical arrays, it lacks built-in features for handling mixed data types (numbers, text, dates), or for easily labeling rows and columns like a spreadsheet. That's where **Pandas** comes in.\n",
    "\n",
    "Pandas is a powerful library for data manipulation and analysis. It introduces two primary data structures: **Series** (1-dimensional) and **DataFrame** (2-dimensional), which are built on top of NumPy arrays.\n",
    "\n",
    "### **2.1 Why We Need Pandas**\n",
    "\n",
    "Almost all biological data that isn't raw sequence data comes in a tabular format:\n",
    "* **Gene expression tables:** Rows are genes, columns are samples, with expression values.\n",
    "* **Patient clinical data:** Rows are patients, columns are age, diagnosis, treatment, response.\n",
    "* **Proteomics data:** Protein IDs, spectral counts, quantification values.\n",
    "* **Experimental metadata:** Sample names, conditions, dates, operators.\n",
    "\n",
    "Pandas makes it incredibly easy to load, clean, transform, and analyze these types of datasets."
   ]
  },
  {
   "cell_type": "markdown",
   "metadata": {},
   "source": [
    "### **2.2 Pandas Series: A Labeled 1D Array**\n",
    "\n",
    "A Series is like a single column in a spreadsheet or a labeled NumPy array. It can hold any data type."
   ]
  },
  {
   "cell_type": "code",
   "execution_count": null,
   "metadata": {},
   "outputs": [],
   "source": [
    "import pandas as pd\n",
    "\n",
    "print(\"--- Pandas Series ---\")\n",
    "\n",
    "# Create a Series from a list\n",
    "gene_expression_series = pd.Series([120, 500, 80, 210], index=['GeneA', 'GeneB', 'GeneC', 'GeneD'])\n",
    "print(\"Gene Expression Series:\\n\", gene_expression_series)\n",
    "print(\"Type:\", type(gene_expression_series))\n",
    "\n"
   ]
  },
  {
   "cell_type": "code",
   "execution_count": null,
   "metadata": {},
   "outputs": [],
   "source": [
    "# Accessing elements by label (index)\n",
    "gene_b_expr = gene_expression_series['GeneB']\n",
    "print(\"\\nExpression of GeneB:\", gene_b_expr)"
   ]
  },
  {
   "cell_type": "markdown",
   "metadata": {},
   "source": [
    "### **2.3 Pandas DataFrame: The Heart of Data Analysis**\n",
    "\n",
    "A DataFrame is a 2-dimensional labeled data structure with columns of potentially different types. You can think of it like a spreadsheet or a SQL table.\n",
    "\n",
    "#### **2.3.1 Creating DataFrames**\n",
    "\n",
    "A common way to create a DataFrame is from a dictionary, where keys become column names and values are lists/arrays of data."
   ]
  },
  {
   "cell_type": "code",
   "execution_count": null,
   "metadata": {},
   "outputs": [],
   "source": [
    "print(\"--- Pandas DataFrame ---\")\n",
    "\n",
    "# Clinical data for patients\n",
    "data = {\n",
    "    'Patient_ID': ['P001', 'P002', 'P003', 'P004', 'P005'],\n",
    "    'Age': [35, 42, 58, 29, 65],\n",
    "    'Gender': ['M', 'F', 'F', 'M', 'F'],\n",
    "    'Diagnosis': ['Flu', 'Cancer', 'Flu', 'Healthy', 'Cancer'],\n",
    "    'Treatment_Response': [8.5, 2.1, 7.9, np.nan, 3.5] # np.nan for missing data\n",
    "}\n",
    "\n",
    "patient_df = pd.DataFrame(data)\n",
    "print(\"Patient DataFrame:\\n\", patient_df)\n",
    "print(\"Type:\", type(patient_df))"
   ]
  },
  {
   "cell_type": "markdown",
   "metadata": {},
   "source": [
    "#### **2.3.2 Inspecting DataFrames**\n",
    "\n",
    "Once you have a DataFrame, you'll want to get a quick overview of its contents."
   ]
  },
  {
   "cell_type": "code",
   "execution_count": null,
   "metadata": {},
   "outputs": [],
   "source": [
    "# Display the first few rows\n",
    "print(\"\\nFirst 3 rows (head()):\\n\", patient_df.head(3))\n",
    "\n",
    "# Get a concise summary of the DataFrame (data types, non-null values)\n",
    "print(\"\\nDataFrame Info (info()):\")\n",
    "patient_df.info()"
   ]
  },
  {
   "cell_type": "code",
   "execution_count": null,
   "metadata": {},
   "outputs": [],
   "source": [
    "# Get descriptive statistics for numerical columns\n",
    "print(\"\\nDescriptive Statistics (describe()):\\n\", patient_df.describe())"
   ]
  },
  {
   "cell_type": "markdown",
   "metadata": {},
   "source": [
    "#### **2.3.3 Selecting Data (Columns and Rows)**\n",
    "\n",
    "Accessing specific parts of your data is fundamental."
   ]
  },
  {
   "cell_type": "code",
   "execution_count": null,
   "metadata": {},
   "outputs": [],
   "source": [
    "# Select a single column (returns a Series)\n",
    "ages = patient_df['Age']\n",
    "print(\"\\nAges Series:\\n\", ages)\n",
    "print(\"Type of 'ages':\", type(ages))\n"
   ]
  },
  {
   "cell_type": "code",
   "execution_count": null,
   "metadata": {},
   "outputs": [],
   "source": [
    "\n",
    "# Select multiple columns (returns a DataFrame)\n",
    "id_age_gender = patient_df[['Patient_ID', 'Age', 'Gender']]\n",
    "print(\"\\nPatient ID, Age, Gender DataFrame:\\n\", id_age_gender)"
   ]
  },
  {
   "cell_type": "code",
   "execution_count": null,
   "metadata": {},
   "outputs": [],
   "source": [
    "# Select rows by index (using .iloc for integer-location based indexing)\n",
    "first_patient = patient_df.iloc[0]\n",
    "print(\"\\nFirst Patient (iloc[0]):\\n\", first_patient)\n",
    "\n"
   ]
  },
  {
   "cell_type": "code",
   "execution_count": null,
   "metadata": {},
   "outputs": [],
   "source": [
    "# Select rows by label (using .loc for label-based indexing - careful if your index is not P001, P002...)\n",
    "# For this example, our index is default 0, 1, 2... so iloc/loc on rows works similarly if using numbers.\n",
    "# If we set 'Patient_ID' as index, then loc becomes more powerful for row selection by ID.\n",
    "patient_df_indexed = patient_df.set_index('Patient_ID')\n",
    "p003_data = patient_df_indexed.loc['P003']\n",
    "print(\"\\nData for P003 (after setting ID as index):\\n\", p003_data)"
   ]
  },
  {
   "cell_type": "markdown",
   "metadata": {},
   "source": [
    "#### **2.3.4 Filtering Data (Conditional Selection)**\n",
    "\n",
    "This is extremely powerful for biological data. You can filter rows based on conditions, similar to `if` statements, but applied across an entire column efficiently."
   ]
  },
  {
   "cell_type": "code",
   "execution_count": null,
   "metadata": {},
   "outputs": [],
   "source": [
    "print(\"--- Filtering Data ---\")\n",
    "\n",
    "# Patients older than 50\n",
    "old_patients = patient_df[patient_df['Age'] > 50]\n",
    "print(\"\\nPatients older than 50:\\n\", old_patients)\n",
    "\n"
   ]
  },
  {
   "cell_type": "code",
   "execution_count": null,
   "metadata": {},
   "outputs": [],
   "source": [
    "# Female patients\n",
    "female_patients = patient_df[patient_df['Gender'] == 'F']\n",
    "print(\"\\nFemale Patients:\\n\", female_patients)\n",
    "\n"
   ]
  },
  {
   "cell_type": "code",
   "execution_count": null,
   "metadata": {},
   "outputs": [],
   "source": [
    "# Patients with Cancer diagnosis AND good response (>3.0)\n",
    "cancer_and_good_response = patient_df[\n",
    "    (patient_df['Diagnosis'] == 'Cancer') & (patient_df['Treatment_Response'] > 3.0)\n",
    "]\n",
    "print(\"\\nCancer patients with good response:\\n\", cancer_and_good_response)"
   ]
  },
  {
   "cell_type": "markdown",
   "metadata": {},
   "source": [
    "#### **2.3.5 Handling Missing Data (`NaN`)**\n",
    "\n",
    "Real-world biological data often has missing values. Pandas uses `NaN` (Not a Number) to represent these. You can detect and handle them."
   ]
  },
  {
   "cell_type": "code",
   "execution_count": null,
   "metadata": {},
   "outputs": [],
   "source": [
    "print(\"--- Handling Missing Data ---\")\n",
    "\n",
    "# Check for missing values\n",
    "print(\"\\nMissing values per column:\\n\", patient_df.isnull().sum())\n"
   ]
  },
  {
   "cell_type": "markdown",
   "metadata": {},
   "source": [
    "#### **2.3.6 Grouping and Aggregation (e.g., Averages by Group)**\n",
    "\n",
    "This is powerful for summarizing data, like finding the average expression level for genes in different pathways, or average patient age by diagnosis.\n",
    "\n",
    "The `groupby()` method is one of the most frequently used Pandas operations."
   ]
  },
  {
   "cell_type": "code",
   "execution_count": null,
   "metadata": {},
   "outputs": [],
   "source": [
    "\n",
    "# Drop rows with any missing values\n",
    "df_cleaned_rows = patient_df.dropna()\n",
    "print(\"\\nDataFrame after dropping rows with NaN:\\n\", df_cleaned_rows)\n",
    "\n"
   ]
  },
  {
   "cell_type": "code",
   "execution_count": null,
   "metadata": {},
   "outputs": [],
   "source": [
    "# Fill missing values (e.g., with the mean of the column, or a specific value)\n",
    "mean_response = patient_df['Treatment_Response'].mean()\n",
    "df_filled = patient_df.fillna(value={'Treatment_Response': mean_response})\n",
    "print(\"\\nDataFrame after filling NaN in Treatment_Response with mean:\\n\", df_filled)"
   ]
  },
  {
   "cell_type": "code",
   "execution_count": null,
   "metadata": {},
   "outputs": [],
   "source": [
    "print(\"--- Grouping Data ---\")\n",
    "\n",
    "# Average age by gender\n",
    "avg_age_by_gender = patient_df.groupby('Gender')['Age'].mean()\n",
    "print(\"\\nAverage Age by Gender:\\n\", avg_age_by_gender)\n",
    "\n"
   ]
  },
  {
   "cell_type": "code",
   "execution_count": null,
   "metadata": {},
   "outputs": [],
   "source": [
    "# Average treatment response by diagnosis\n",
    "avg_response_by_diagnosis = patient_df.groupby('Diagnosis')['Treatment_Response'].mean()\n",
    "print(\"\\nAverage Treatment Response by Diagnosis:\\n\", avg_response_by_diagnosis)"
   ]
  },
  {
   "cell_type": "markdown",
   "metadata": {},
   "source": [
    "**Your Turn! (Pandas Exercise)**\n",
    "\n",
    "You have gene expression data from an experiment. `GeneA` and `GeneB` are controls, `GeneC` and `GeneD` are experimental.\n",
    "\n",
    "1.  Create a Pandas DataFrame called `gene_expression_df` from the following data:\n",
    "    ```python\n",
    "    data = {\n",
    "        'Gene_ID': ['GeneA', 'GeneB', 'GeneC', 'GeneD', 'GeneE', 'GeneF'],\n",
    "        'Sample1_Expr': [100, 250, 50, 300, 120, 80],\n",
    "        'Sample2_Expr': [110, 240, 60, 310, 130, 90],\n",
    "        'Sample3_Expr': [95, 260, 45, 290, 115, 75],\n",
    "        'Category': ['Control', 'Control', 'Experimental', 'Experimental', 'Control', 'Experimental']\n",
    "    }\n",
    "    ```\n",
    "2.  Print the `info()` and `describe()` of your DataFrame.\n",
    "3.  Filter the DataFrame to show only `Experimental` genes and print this filtered DataFrame.\n",
    "4.  Calculate the **average expression** for each gene across all three samples (`Sample1_Expr`, `Sample2_Expr`, `Sample3_Expr`). Store this in a new column called `Average_Expr` in your DataFrame and print the updated DataFrame.\n",
    "    *Hint: You can sum the three expression columns and divide by 3, or use `df[['col1', 'col2', 'col3']].mean(axis=1)` to get the mean row-wise.*\n",
    "5.  Group the DataFrame by `Category` and calculate the average `Average_Expr` for each category. Print this result."
   ]
  },
  {
   "cell_type": "code",
   "execution_count": null,
   "metadata": {},
   "outputs": [],
   "source": [
    "# Write your code for Pandas Exercise here!\n",
    "\n"
   ]
  },
  {
   "cell_type": "markdown",
   "metadata": {},
   "source": [
    "---"
   ]
  },
  {
   "cell_type": "markdown",
   "metadata": {},
   "source": [
    "## **3. Matplotlib: Visualizing Your Data**\n",
    "\n",
    "After you've cleaned and analyzed your data, you need to communicate your findings effectively. **Matplotlib** is the most popular plotting library in Python, capable of creating a wide range of static, animated, and interactive visualizations.\n",
    "\n",
    "### **3.1 Why Biologists Need Matplotlib**\n",
    "\n",
    "Visualizations are critical for:\n",
    "* **Exploring data:** Quickly identify patterns, outliers, or distributions.\n",
    "* **Presenting results:** Create publication-quality figures for papers, posters, and presentations.\n",
    "* **Quality control:** Spot potential issues in your raw data (e.g., uneven sequencing depth, batch effects).\n",
    "\n",
    "We usually import `matplotlib.pyplot` (the plotting interface) as `plt`."
   ]
  },
  {
   "cell_type": "code",
   "execution_count": null,
   "metadata": {},
   "outputs": [],
   "source": [
    "import matplotlib.pyplot as plt\n",
    "import numpy as np # Already imported, but good to remind\n",
    "import pandas as pd # Already imported, but good to remind\n",
    "\n",
    "# Ensure plots appear directly in the notebook\n",
    "%matplotlib inline\n",
    "\n",
    "print(\"--- Basic Matplotlib Plots ---\")"
   ]
  },
  {
   "cell_type": "markdown",
   "metadata": {},
   "source": [
    "### **3.2 Common Plot Types for Biology**\n",
    "\n",
    "#### **3.2.1 Line Plots (e.g., Time Series, Dose-Response)**\n",
    "\n",
    "Useful for showing trends over time or continuous variables."
   ]
  },
  {
   "cell_type": "code",
   "execution_count": null,
   "metadata": {},
   "outputs": [],
   "source": [
    "# Simulated bacterial growth curve\n",
    "time_points = np.array([0, 2, 4, 6, 8, 10, 12]) # hours\n",
    "bacterial_growth = np.array([10, 30, 90, 270, 810, 2430, 7290]) # colony forming units (CFU)\n",
    "\n",
    "plt.figure(figsize=(8, 5)) # Create a figure and axes\n",
    "plt.plot(time_points, bacterial_growth, marker='o', linestyle='-', color='green')\n",
    "plt.title('Bacterial Growth Over Time')\n",
    "plt.xlabel('Time (hours)')\n",
    "plt.ylabel('Bacterial Count (CFU)')\n",
    "plt.grid(True) # Add a grid for readability\n",
    "plt.show()"
   ]
  },
  {
   "cell_type": "markdown",
   "metadata": {},
   "source": [
    "#### **3.2.2 Scatter Plots (e.g., Correlation between Gene Expression)**\n",
    "\n",
    "Show the relationship between two numerical variables."
   ]
  },
  {
   "cell_type": "code",
   "execution_count": null,
   "metadata": {},
   "outputs": [],
   "source": [
    "# Simulated expression of two genes in different samples\n",
    "gene_x_expr = np.array([10, 15, 20, 25, 30, 35, 40, 45, 50])\n",
    "gene_y_expr = np.array([12, 18, 21, 28, 32, 38, 43, 48, 55]) + np.random.normal(0, 2, 9) # Add some noise\n",
    "\n",
    "plt.figure(figsize=(8, 6))\n",
    "plt.scatter(gene_x_expr, gene_y_expr, color='blue', alpha=0.7)\n",
    "plt.title('Correlation of Gene X vs Gene Y Expression')\n",
    "plt.xlabel('Gene X Expression Level')\n",
    "plt.ylabel('Gene Y Expression Level')\n",
    "plt.grid(True)\n",
    "plt.show()"
   ]
  },
  {
   "cell_type": "markdown",
   "metadata": {},
   "source": [
    "#### **3.2.3 Histograms (e.g., Distribution of Read Lengths, Expression Values)**\n",
    "\n",
    "Display the distribution of a single numerical variable."
   ]
  },
  {
   "cell_type": "code",
   "execution_count": null,
   "metadata": {},
   "outputs": [],
   "source": [
    "# Simulated distribution of sequencing read lengths\n",
    "read_lengths = np.random.normal(loc=150, scale=20, size=1000) # Mean 150, Std Dev 20, 1000 reads\n",
    "read_lengths = read_lengths[read_lengths > 0] # Remove any negative lengths just in case\n",
    "\n",
    "plt.figure(figsize=(9, 6))\n",
    "plt.hist(read_lengths, bins=20, color='purple', edgecolor='black', alpha=0.7)\n",
    "plt.title('Distribution of Sequencing Read Lengths')\n",
    "plt.xlabel('Read Length (bp)')\n",
    "plt.ylabel('Frequency')\n",
    "plt.grid(axis='y', alpha=0.75)\n",
    "plt.show()"
   ]
  },
  {
   "cell_type": "markdown",
   "metadata": {},
   "source": [
    "#### **3.2.4 Bar Charts (e.g., Counts of Cell Types, Average Values per Group)**\n",
    "\n",
    "Compare categorical data or aggregated numerical data."
   ]
  },
  {
   "cell_type": "code",
   "execution_count": null,
   "metadata": {},
   "outputs": [],
   "source": [
    "# Counts of different cell types in a sample\n",
    "cell_types = ['T-cell', 'B-cell', 'Macrophage', 'Neutrophil']\n",
    "cell_counts = [2500, 1800, 1200, 3000]\n",
    "\n",
    "plt.figure(figsize=(9, 6))\n",
    "plt.bar(cell_types, cell_counts, color=['skyblue', 'lightcoral', 'lightgreen', 'gold'])\n",
    "plt.title('Cell Type Abundance in Sample')\n",
    "plt.xlabel('Cell Type')\n",
    "plt.ylabel('Count')\n",
    "plt.grid(axis='y', alpha=0.75)\n",
    "plt.show()"
   ]
  },
  {
   "cell_type": "markdown",
   "metadata": {},
   "source": [
    "### **3.3 Customizing Plots: Making Them Publication-Ready**\n",
    "\n",
    "Matplotlib offers extensive customization. Here are some basics:\n",
    "* `plt.figure(figsize=(width, height))`: Set plot size.\n",
    "* `plt.title()`, `plt.xlabel()`, `plt.ylabel()`: Add labels.\n",
    "* `plt.legend()`: Add a legend if you have multiple lines/elements.\n",
    "* `color`, `marker`, `linestyle`, `alpha` (transparency) arguments in plot functions.\n",
    "* `plt.xlim()`, `plt.ylim()`: Set axis limits.\n",
    "* `plt.xticks()`, `plt.yticks()`: Customize tick marks.\n",
    "* `plt.grid()`: Add a grid."
   ]
  },
  {
   "cell_type": "markdown",
   "metadata": {},
   "source": [
    "**Your Turn! (Matplotlib Exercise)**\n",
    "\n",
    "Using the `gene_expression_df` from your Pandas exercise, create a bar chart.\n",
    "\n",
    "1.  Use the `Gene_ID` column for your x-axis categories.\n",
    "2.  Use the `Average_Expr` column for your y-axis values.\n",
    "3.  Add a title: \"Average Gene Expression Levels\".\n",
    "4.  Label the x-axis: \"Gene ID\".\n",
    "5.  Label the y-axis: \"Average Expression\".\n",
    "6.  Make the bars a different color (e.g., `'skyblue'` or `'teal'`)."
   ]
  },
  {
   "cell_type": "code",
   "execution_count": null,
   "metadata": {},
   "outputs": [],
   "source": [
    "# Write your code for Matplotlib Exercise here!\n",
    "\n",
    "# Ensure gene_expression_df is available from the previous exercise\n",
    "if 'gene_expression_df' not in locals():\n",
    "    print(\"Please run the Pandas Exercise cell first to create 'gene_expression_df'.\")\n",
    "else:\n",
    "    #Write Code Here"
   ]
  },
  {
   "cell_type": "markdown",
   "metadata": {},
   "source": [
    "---"
   ]
  },
  {
   "cell_type": "markdown",
   "metadata": {},
   "source": [
    "## **4. Putting It All Together: A Workflow Example**\n",
    "\n",
    "Let's combine these libraries to simulate a common biological data analysis task: analyzing patient sample data.\n",
    "\n",
    "Scenario: We have patient data including age, blood pressure, and a new biomarker level. We want to:\n",
    "1.  Load the data.\n",
    "2.  Calculate some summary statistics.\n",
    "3.  Filter based on conditions.\n",
    "4.  Visualize the relationship between blood pressure and the biomarker."
   ]
  },
  {
   "cell_type": "code",
   "execution_count": null,
   "metadata": {},
   "outputs": [],
   "source": [
    "# 1. Create a dummy CSV file for demonstration (like reading from a real file)\n",
    "csv_content = \"\"\"\n",
    "Patient_ID,Age,Blood_Pressure,Biomarker_Level,Treatment_Group\n",
    "P001,45,120,5.2,A\n",
    "P002,62,145,8.1,B\n",
    "P003,30,110,4.5,A\n",
    "P004,58,135,7.0,B\n",
    "P005,39,125,6.1,A\n",
    "P006,70,150,9.2,B\n",
    "P007,28,105,3.9,A\n",
    "P008,50,130,6.5,B\n",
    "\"\"\"\n",
    "with open(\"patient_data.csv\", \"w\") as f:\n",
    "    f.write(csv_content)\n",
    "\n",
    "print(\"--- Integrated Workflow Example ---\")\n",
    "\n",
    "# 1. Load Data with Pandas\n",
    "patient_data_df = pd.read_csv(\"patient_data.csv\")\n",
    "print(\"\\nOriginal Patient Data:\\n\", patient_data_df)\n",
    "\n",
    "# 2. Calculate Summary Statistics (using Pandas, which often uses NumPy internally)\n",
    "print(\"\\nDescriptive statistics for numerical columns:\\n\", patient_data_df[['Age', 'Blood_Pressure', 'Biomarker_Level']].describe())\n",
    "\n",
    "# 3. Filter Data: Patients in Treatment Group 'B' with high blood pressure (>130)\n",
    "high_bp_group_b = patient_data_df[\n",
    "    (patient_data_df['Treatment_Group'] == 'B') & \n",
    "    (patient_data_df['Blood_Pressure'] > 130)\n",
    "]\n",
    "print(\"\\nPatients in Group B with high BP:\\n\", high_bp_group_b)\n",
    "\n",
    "# 4. Visualize Data: Scatter plot of Blood Pressure vs. Biomarker Level, colored by Treatment Group\n",
    "plt.figure(figsize=(10, 7))\n",
    "\n",
    "# Plot points for Group A\n",
    "group_a = patient_data_df[patient_data_df['Treatment_Group'] == 'A']\n",
    "plt.scatter(group_a['Blood_Pressure'], group_a['Biomarker_Level'], \n",
    "            color='blue', label='Treatment Group A', alpha=0.7, s=100) # s for size\n",
    "\n",
    "# Plot points for Group B\n",
    "group_b = patient_data_df[patient_data_df['Treatment_Group'] == 'B']\n",
    "plt.scatter(group_b['Blood_Pressure'], group_b['Biomarker_Level'], \n",
    "            color='red', label='Treatment Group B', alpha=0.7, s=100)\n",
    "\n",
    "plt.title('Blood Pressure vs. Biomarker Level by Treatment Group')\n",
    "plt.xlabel('Blood Pressure (mmHg)')\n",
    "plt.ylabel('Biomarker Level')\n",
    "plt.legend()\n",
    "plt.grid(True)\n",
    "plt.show()"
   ]
  },
  {
   "cell_type": "markdown",
   "metadata": {},
   "source": [
    "---"
   ]
  }
 ],
 "metadata": {
  "kernelspec": {
   "display_name": "nlp",
   "language": "python",
   "name": "python3"
  },
  "language_info": {
   "codemirror_mode": {
    "name": "ipython",
    "version": 3
   },
   "file_extension": ".py",
   "mimetype": "text/x-python",
   "name": "python",
   "nbconvert_exporter": "python",
   "pygments_lexer": "ipython3",
   "version": "3.11.11"
  }
 },
 "nbformat": 4,
 "nbformat_minor": 4
}
